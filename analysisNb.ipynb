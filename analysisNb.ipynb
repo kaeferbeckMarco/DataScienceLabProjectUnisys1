{
 "cells": [
  {
   "cell_type": "code",
   "id": "initial_id",
   "metadata": {
    "collapsed": true,
    "ExecuteTime": {
     "end_time": "2024-12-09T19:04:22.485906Z",
     "start_time": "2024-12-09T19:03:54.488039Z"
    }
   },
   "source": [
    "from LLM import LLM\n",
    "from BusinessRuleExtractor import BusinessRuleExtractor\n",
    "from PyPDF2 import PdfReader\n",
    "\n",
    "def read_pdf(file_path):\n",
    "    reader = PdfReader(file_path)\n",
    "    text = \"\"\n",
    "    for page in reader.pages:\n",
    "        text += page.extract_text() + \"\\n\"\n",
    "    return text\n",
    "\n",
    "# Example usage\n",
    "# Replace this with the path to your PDF document\n",
    "file_path = \"resources/business_rules_document.pdf\"\n",
    "\n",
    "# Read the content of the PDF document\n",
    "legal_text = read_pdf(file_path)\n",
    "\n",
    "# Create an instance of BusinessRuleExtractionLibrary\n",
    "ruleExtractor = BusinessRuleExtractor(LLM.OLLAMA)\n",
    "\n",
    "rules = ruleExtractor.extract_business_rules_from_document(legal_text)\n",
    "\n",
    "# Output the Prolog rules\n",
    "print(rules)"
   ],
   "outputs": [
    {
     "name": "stdout",
     "output_type": "stream",
     "text": [
      "[\"I'm happy to help, but you haven't provided a text segment for me to extract the rules from. Could you please provide the text, and I'll do my best to convert it into Prolog format?\", 'Here are the extracted rules in Prolog format:\\n\\n```prolog\\n% Rule 1: Customer must provide valid identification\\nvalidate_identity(X) :- identity(X).\\nidentity(X).\\n\\n% Rule 2: Customer must agree to terms and conditions\\nagree_to_terms(X) :- accept_terms(X).\\naccept_terms(X).\\n```\\n\\nNote that these Prolog rules are very simple and do not include any actual validation or verification logic. In a real-world implementation, the `validate_identity/1` and `agree_to_terms/1` predicates would contain more complex definitions to enforce the actual requirements of the rules.\\n\\nAlso, please note that in Prolog, it is conventional to use lowercase letters for variable names and uppercase letters for predicate names. I have followed this convention in the above code snippet.', 'Unfortunately, I couldn\\'t find any rules mentioned in the given text segment. The provided \"text\" only contains statements, but no Prolog-style rules.\\n\\nProlog rules typically have a specific format: \\n\\nHead :- Body\\n\\nWhere Head is the conclusion and Body is one or more clauses that imply it.\\n\\nIf you\\'d like to create rules from the statements, here are two possible examples:\\n\\n```prolog\\n% Rule 1: All customer data must be encrypted when stored.\\nencrypted_data :-\\n    stored_data,\\n    !.\\n\\n% Rule 2: Employees cannot approve their own expense reports.\\ncannot_approve_expense_report :-\\n    employee(self),\\n    expense_report(self).\\n```\\n\\nPlease note that these are just one possible way to represent rules in Prolog format, and there might be other interpretations depending on the context.', 'Here are the extracted rules in Prolog format:\\n\\n```prolog\\n% Rule 1: Transactions over $10,000 must be reported\\nreport_to_compliance(TransactionValue) :- TransactionValue > 10000.\\n\\n% Rule 2: Refunds can only be issued within 30 days of purchase date\\nrefund_eligible(PurchaseDate, IssuedDate) :-\\n    PurchaseDate >= DateYesterday,\\n    DateYesterday + 30 > IssuedDate.\\n```\\n\\nNote that `TransactionValue` and `PurchaseDate` are predicates (or variables), which are used to represent entities in the rules. The actual values of these predicates would depend on the context in which they are being used.\\n\\nAlso, note that I assumed that `DateYesterday` is a built-in predicate or variable that represents the date 30 days prior to a given date. If this is not the case, you may need to modify the second rule accordingly.', \"Here are the extracted rules in Prolog format:\\n\\n```prolog\\n% Rule 1: Minimum credit score for loan application\\nmin_credit_score(650).\\n\\n% Rule 2: Vendor approval process\\napproved_by Procurement(vendor).\\n```\\n\\nNote that I've simplified the rules to their essence, focusing on the minimum credit score and the vendor approval process. In a real-world Prolog implementation, you might want to consider using more formal representation of rules, such as predicate/argument pairs or clauses. \\n\\nFor example:\\n\\n```prolog\\n% Rule 1: Minimum credit score for loan application\\n:- min_credit_score(650).\\nmin_credit_score(650).\\n\\n% Rule 2: Vendor approval process\\nvendor_approved(vendor) :- approved_by Procurement.\\napproved_by Procurement(vendor).\\n```\\n\\nThis representation uses the `:-` symbol to indicate a rule, and `min_credit_score/1` is defined as a predicate that takes one argument (the minimum credit score). The second clause simply redefines this predicate for better readability.\", 'Here are the extracted rules in Prolog format:\\n\\n```\\n% Rule 9: No employee can approve their own expense report\\napprove_expense_report(Expense, Approver) :- Approver \\\\= Employee,\\n                                  where(Employee is Expense.expense_submitter).\\n\\n% Rule 10: Manager must approve any discount greater than 20%\\ndiscount_approved(Disc, Manager, Approved) :-\\n    Disc > 0.2,\\n    Manager = expense_manager.\\n```', \"Unfortunately, you didn't provide any text segment for me to extract rules from. The text snippet you shared earlier was incomplete.\\n\\nIf you could provide the complete text segment or point me in the direction of where to find it (e.g., a document, a website, etc.), I'd be happy to help you extract the rules in Prolog format.\", \"I don't see a text segment provided. Please provide the text segment you'd like me to extract rules from, and I'll be happy to assist you in converting them into Prolog format.\"]\n"
     ]
    }
   ],
   "execution_count": 2
  },
  {
   "metadata": {
    "ExecuteTime": {
     "end_time": "2024-12-09T19:08:17.444818Z",
     "start_time": "2024-12-09T19:06:53.514797Z"
    }
   },
   "cell_type": "code",
   "source": [
    "from LLM import LLM\n",
    "from BusinessRuleExtractor import BusinessRuleExtractor\n",
    "from PyPDF2 import PdfReader\n",
    "\n",
    "def read_pdf(file_path):\n",
    "    reader = PdfReader(file_path)\n",
    "    text = \"\"\n",
    "    for page in reader.pages:\n",
    "        text += page.extract_text() + \"\\n\"\n",
    "    return text\n",
    "\n",
    "# Example usage\n",
    "# Replace this with the path to your PDF document\n",
    "file_path = \"resources/business_rules_document.pdf\"\n",
    "\n",
    "# Read the content of the PDF document\n",
    "legal_text = read_pdf(file_path)\n",
    "\n",
    "# Create an instance of BusinessRuleExtractionLibrary\n",
    "ruleExtractor = BusinessRuleExtractor(LLM.MISTRAL)\n",
    "\n",
    "rules = ruleExtractor.extract_business_rules_from_document(legal_text)\n",
    "\n",
    "# Output the Prolog rules\n",
    "print(rules)"
   ],
   "id": "80658bcde4b19781",
   "outputs": [
    {
     "name": "stdout",
     "output_type": "stream",
     "text": [
      "[\"1. rule_1(X, Y) :- brother(X), man(Y), different_from(X, Y).\\n\\nrule_2(X) :- sister(X), woman(X).\\n\\nrule_3(X) :- parent(X, Y), Y < 18, child(X).\\n\\nrule_4(X, Y) :- uncle(X), brother(Y).\\n\\nrule_5(X, Y) :- aunt(X), sister(Y).\\n\\nrule_6(X) :- parent(X, Y), Y = father(Y).\\n\\nrule_7(X) :- parent(X, Y), Y = mother(Y).\\n\\nrule_8(X, Y) :- sibling(X, Y), different_from(X, Y).\\n\\nrule_9(X, Y) :- different_from(X, Y), not(sibling(X, Y)).\\n\\nrule_10(X, Y) :- parent(X, Y), X \\\\= Y.\\n\\nrule_11(X, Y) :- mother(X), man(Y), child(Y).\\n\\nrule_12(X, Y) :- father(X), woman(Y), child(Y).\\n\\nrule_13(X, Y) :- brother(X), Y = X.\\n\\nrule_14(X, Y) :- sister(X), Y = X.\\n\\nrule_15(X) :- different_from(X, self).\\n\\nrule_16(X) :- man(X).\\n\\nrule_17(X) :- woman(X).\\n\\nrule_18(X) :- brother(X).\\n\\nrule_19(X) :- sister(X).\\n\\nrule_20(X) :- uncle(X).\\n\\nrule_21(X) :- aunt(X).\\n\\nrule_22(X) :- parent(X, _).\\n\\nrule_23(X) :- child(X).\\n\\nrule_24(X, Y) :- different_from(X, Y), not(parent(X, Y)).\\n\\nrule_25(X, Y) :- X \\\\= Y.\\n\\nrule_26(X) :- not(man(X)).\\n\\nrule_27(X) :- not(woman(X)).\\n\\nWhere:\\n- man(X), woman(X), child(X), parent(X), brother(X), sister(X), uncle(X), aunt(X) are predicates for gender, family relations, and age.\\n- different_from(X, Y) is a predicate that checks if X and Y are not the same individual.\\n- The underscore '_' represents any variable in Prolog.\\n- The '\\\\=' operator is used to check if two variables are not equal.\", '1. open_account(Customer) :-\\n      has_valid_identification(Customer).\\n\\n2. has_valid_identification(Customer) :-\\n     true % This rule implies that any customer can have valid identification, no specific conditions are provided in the text segment.', \"1. report_transaction(Transaction) :- amount(Transaction), amount(Transaction) > 10000.\\n\\nIn this rule, we are defining a predicate `report_transaction/1` which will hold true for any transaction whose amount is greater than 10,000 dollars. This represents the fact that all transactions above $10,000 must be reported to the compliance department. The facts representing the transactions and their amounts should be defined separately in Prolog. For example:\\n\\n   - transaction(transaction_1, Amount).\\n   - amount(transaction_1, X) :- var(X), readln(X), X > 10000. % User input for transaction amount (replace 'readln' with appropriate function if not using XSB or SWI-Prolog)\", \"1. valid_application(Applicant) :- credit_score(Applicant, Score), Score >= 650.\\n\\nAssuming that the facts about the applicants' credit scores are stored in the database as `credit_score(Applicant, Score)`, where 'Applicant' is the name of the individual and 'Score' is the credit score. The rule above defines a predicate `valid_application/1` that checks whether an application can be processed based on the given criteria. It states that if the credit score of an applicant (Applicant) is 650 or above, then the loan application is valid.\", '1. no_self_approval(Employee):- Employee is approving_expense(Employee).\\n\\nThis rule represents the prohibition that employees cannot approve their own expense reports in Prolog format. The predicate \"no_self_approval/1\" checks if a specific employee (represented by the first argument of the predicate) is approving an expense report for themselves, which should not be the case according to the rule.', '1. refund_policy(Request):-\\n      days_since_purchase(Request, Days) ->\\n          Days < 30 -> true;\\n          false.\\n\\n  2. days_since_purchase(Request, Days):-\\n      Purchase_date(Purchase_day),\\n      Current_date(Current_day),\\n      difference(Current_day, Purchase_day, Days).\\n\\n  3. Purchase_date(Date) fact (The date of the purchase is saved as a fact in the system).\\n\\n  4. Current_date(Date) fact or query (The current date can be queried from a function or a fact in the system).', \"1. manager_approval(discount_greater_than_20%):-\\n      percentage(Discount), Discount > 20.\\n\\nThis rule in Prolog represents that if a discount is greater than 20%, it requires a manager's approval. The predicate `percentage/1` should be defined elsewhere as a built-in or user-defined predicate to handle numerical values as percentages.\", '1. user(Customer) :- agrees_to_terms_and_conditions(Customer).\\n\\n  2. agrees_to_terms_and_conditions(Customer) :- using_service(Customer), accepted_tc(Customer).\\n\\n  3. using_service(Customer) :- true. % Assuming that if a customer is interacting with the service, they are using it\\n\\n  4. accepted_tc(Customer) :- explicitly_accepted_tc(Customer).\\n\\n  5. accepted_tc(Customer) :- implicitly_accepted_tc(Customer).\\n\\n  6. explicitly_accepted_tc(Customer) :- clicked_accept_button(Customer).\\n\\n  7. implicitly_accepted_tc(Customer) :- first_use_of_service(Customer), not(clicked_reject_button(Customer)).\\n\\n  8. first_use_of_service(Customer) :- true. % Assuming that the first time a customer uses the service, it is their first use.\\n\\n  9. clicked_accept_button(Customer) :- true. % Assuming that clicking the accept button is represented as true in this context.\\n\\n  10. clicked_reject_button(Customer) :- true. % Assuming that clicking the reject button is represented as true in this context.', '1. encrypt_data(Data):\\n   Rule to represent that data should always be encrypted, regardless of whether it is being stored or transmitted.\\n\\n   This rule in Prolog format does not require specific conditions for storage or transmission because the policy states that all customer data must be encrypted in both cases. However, if more specific rules are needed (e.g., different encryption methods for stored data and transmitted data), additional rules could be defined as follows:\\n\\n   - encrypt_storage(Data): Rule to represent encryption of data when storing it.\\n   - encrypt_transmission(Data): Rule to represent encryption of data when transmitting it.\\n\\n   For example, if AES encryption is used for stored data and RSA encryption is used for transmitted data:\\n\\n   - encrypt_storage(Data) :- aes_encrypt(Data).\\n   - encrypt_transmission(Data) :- rsa_encrypt(Data).', '1. vet_and_approve_vendor(Vendor):-\\n      procurement_team_member,\\n      vet(Vendor).\\n\\n  2. procurement_team_member(X) :-\\n      % Assuming a list of known procurement team members is available as a fact base in the system\\n      % For example: procurement_team_members([John, Mary, David]).\\n\\n  3. vet(Vendor):-\\n      % Rules for vetting process, assuming some checks are performed on Vendor\\n      % These rules would involve specific conditions and facts about Vendor, not shown here due to the context.\\n\\n  4. sign_contract(Contract) :-\\n      approved_vendor(Vendor),\\n      Contract with vendor(Vendor).', \"1. check_inventory :-\\n       day(LastDayOfMonth) % This predicate checks if the current day is the last day of a month.\\n       Now is LastDayOfMonth. % The current date is the last day of the month.\\n       write('Conducting inventory check.'). % Write message to indicate the inventory check is being conducted.\\n\\n   Assuming we have day/2 predicate as part of Prolog's built-in calendar library, where:\\n\\n   1. day(1, january) :- true.\\n   2. day(31, february) :- non_leap_year.\\n   3. day(29, february) :- leap_year.\\n   4. day(30, month) :- member(month, [4, 6, 9, 11]). % Days in these months are 30\\n   5. day(31, month) :- \\\\+ member(month, [4, 6, 9, 11]). % All other months have 31 days\\n   6. leap_year :- year(Year), mod(Year, 400) =:= 0 ; (mod(Year, 4) =:= 0, \\\\+ mod(Year, 100)). % Year is a leap year if it's divisible by 400 or (divisible by 4 but not 100 except for years that are also divisible by 400).\"]\n"
     ]
    }
   ],
   "execution_count": 3
  },
  {
   "metadata": {},
   "cell_type": "code",
   "source": [
    "from LLM import LLM\n",
    "from BusinessRuleExtractor import BusinessRuleExtractor\n",
    "from PyPDF2 import PdfReader\n",
    "\n",
    "def read_pdf(file_path):\n",
    "    reader = PdfReader(file_path)\n",
    "    text = \"\"\n",
    "    for page in reader.pages:\n",
    "        text += page.extract_text() + \"\\n\"\n",
    "    return text\n",
    "\n",
    "# Example usage\n",
    "# Replace this with the path to your PDF document\n",
    "file_path = \"resources/business_rules_document.pdf\"\n",
    "\n",
    "# Read the content of the PDF document\n",
    "legal_text = read_pdf(file_path)\n",
    "\n",
    "# Create an instance of BusinessRuleExtractionLibrary\n",
    "ruleExtractor = BusinessRuleExtractor(LLM.GPT)\n",
    "\n",
    "rules = ruleExtractor.extract_business_rules_from_document(legal_text)\n",
    "\n",
    "# Output the Prolog rules\n",
    "print(rules)"
   ],
   "id": "fc6d8cd45ffdceac",
   "outputs": [],
   "execution_count": null
  },
  {
   "metadata": {
    "ExecuteTime": {
     "end_time": "2024-12-18T14:47:09.680368Z",
     "start_time": "2024-12-18T14:47:08.808527Z"
    }
   },
   "cell_type": "code",
   "source": [
    "from LLM import LLM\n",
    "from BusinessRuleExtractor import BusinessRuleExtractor\n",
    "from PyPDF2 import PdfReader\n",
    "\n",
    "def read_pdf(file_path):\n",
    "    reader = PdfReader(file_path)\n",
    "    text = \"\"\n",
    "    for page in reader.pages:\n",
    "        text += page.extract_text() + \"\\n\"\n",
    "    return text\n",
    "\n",
    "# Example usage\n",
    "# Replace this with the path to your PDF document\n",
    "file_path = \"resources/business_rules_document.pdf\"\n",
    "\n",
    "# Read the content of the PDF document\n",
    "legal_text = read_pdf(file_path)\n",
    "\n",
    "# Create an instance of BusinessRuleExtractionLibrary\n",
    "ruleExtractor = BusinessRuleExtractor(LLM.GEMINI)\n",
    "\n",
    "rules = ruleExtractor.extract_business_rules_from_document(legal_text)\n",
    "\n",
    "# Output the Prolog rules\n",
    "print(rules)"
   ],
   "id": "256ee957119f85aa",
   "outputs": [
    {
     "ename": "KeyError",
     "evalue": "\"Unable to determine the intended type of the `dict`. For `Content`, a 'parts' key is expected. For `Part`, either an 'inline_data' or a 'text' key is expected. For `Blob`, both 'mime_type' and 'data' keys are expected. However, the provided dictionary has the following keys: ['text', 'role']\"",
     "output_type": "error",
     "traceback": [
      "\u001B[0;31m---------------------------------------------------------------------------\u001B[0m",
      "\u001B[0;31mKeyError\u001B[0m                                  Traceback (most recent call last)",
      "Cell \u001B[0;32mIn[1], line 22\u001B[0m\n\u001B[1;32m     19\u001B[0m \u001B[38;5;66;03m# Create an instance of BusinessRuleExtractionLibrary\u001B[39;00m\n\u001B[1;32m     20\u001B[0m ruleExtractor \u001B[38;5;241m=\u001B[39m BusinessRuleExtractor(LLM\u001B[38;5;241m.\u001B[39mGEMINI)\n\u001B[0;32m---> 22\u001B[0m rules \u001B[38;5;241m=\u001B[39m ruleExtractor\u001B[38;5;241m.\u001B[39mextract_business_rules_from_document(legal_text)\n\u001B[1;32m     24\u001B[0m \u001B[38;5;66;03m# Output the Prolog rules\u001B[39;00m\n\u001B[1;32m     25\u001B[0m \u001B[38;5;28mprint\u001B[39m(rules)\n",
      "File \u001B[0;32m~/DataspellProjects/DataScienceLabProjectUnisys1/BusinessRuleExtractor.py:29\u001B[0m, in \u001B[0;36mBusinessRuleExtractor.extract_business_rules_from_document\u001B[0;34m(self, text)\u001B[0m\n\u001B[1;32m     27\u001B[0m model \u001B[38;5;241m=\u001B[39m \u001B[38;5;28mself\u001B[39m\u001B[38;5;241m.\u001B[39mget_model()\n\u001B[1;32m     28\u001B[0m \u001B[38;5;66;03m# extract the business rules from the text\u001B[39;00m\n\u001B[0;32m---> 29\u001B[0m segments \u001B[38;5;241m=\u001B[39m model\u001B[38;5;241m.\u001B[39msegment_text(text, \u001B[38;5;28mself\u001B[39m\u001B[38;5;241m.\u001B[39mprompt1,\u001B[38;5;28mself\u001B[39m\u001B[38;5;241m.\u001B[39msystemPrompt1)\n\u001B[1;32m     30\u001B[0m extracted_rules \u001B[38;5;241m=\u001B[39m []\n\u001B[1;32m     31\u001B[0m \u001B[38;5;28;01mfor\u001B[39;00m segment \u001B[38;5;129;01min\u001B[39;00m segments:\n",
      "File \u001B[0;32m~/DataspellProjects/DataScienceLabProjectUnisys1/GeminiModel.py:10\u001B[0m, in \u001B[0;36mGeminiModel.segment_text\u001B[0;34m(self, text, prompt1, system_prompt)\u001B[0m\n\u001B[1;32m      9\u001B[0m \u001B[38;5;28;01mdef\u001B[39;00m \u001B[38;5;21msegment_text\u001B[39m(\u001B[38;5;28mself\u001B[39m, text, prompt1, system_prompt):\n\u001B[0;32m---> 10\u001B[0m     response \u001B[38;5;241m=\u001B[39m \u001B[38;5;28mself\u001B[39m\u001B[38;5;241m.\u001B[39mmodel\u001B[38;5;241m.\u001B[39mgenerate_content(\n\u001B[1;32m     11\u001B[0m         contents\u001B[38;5;241m=\u001B[39m[\n\u001B[1;32m     12\u001B[0m             {\n\u001B[1;32m     13\u001B[0m                 \u001B[38;5;124m\"\u001B[39m\u001B[38;5;124mparts\u001B[39m\u001B[38;5;124m\"\u001B[39m: [\n\u001B[1;32m     14\u001B[0m                     {\u001B[38;5;124m\"\u001B[39m\u001B[38;5;124mtext\u001B[39m\u001B[38;5;124m\"\u001B[39m: system_prompt, \u001B[38;5;124m\"\u001B[39m\u001B[38;5;124mrole\u001B[39m\u001B[38;5;124m\"\u001B[39m: \u001B[38;5;124m\"\u001B[39m\u001B[38;5;124msystem\u001B[39m\u001B[38;5;124m\"\u001B[39m},\n\u001B[1;32m     15\u001B[0m                     {\u001B[38;5;124m\"\u001B[39m\u001B[38;5;124mtext\u001B[39m\u001B[38;5;124m\"\u001B[39m: \u001B[38;5;124mf\u001B[39m\u001B[38;5;124m\"\u001B[39m\u001B[38;5;132;01m{\u001B[39;00mprompt1\u001B[38;5;132;01m}\u001B[39;00m\u001B[38;5;124m: \u001B[39m\u001B[38;5;132;01m{\u001B[39;00mtext\u001B[38;5;132;01m}\u001B[39;00m\u001B[38;5;124m\"\u001B[39m, \u001B[38;5;124m\"\u001B[39m\u001B[38;5;124mrole\u001B[39m\u001B[38;5;124m\"\u001B[39m: \u001B[38;5;124m\"\u001B[39m\u001B[38;5;124muser\u001B[39m\u001B[38;5;124m\"\u001B[39m}\n\u001B[1;32m     16\u001B[0m                 ]\n\u001B[1;32m     17\u001B[0m             }\n\u001B[1;32m     18\u001B[0m         ]\n\u001B[1;32m     19\u001B[0m     )\n\u001B[1;32m     20\u001B[0m     \u001B[38;5;28;01mreturn\u001B[39;00m response\u001B[38;5;241m.\u001B[39mcandidates[\u001B[38;5;241m0\u001B[39m]\u001B[38;5;241m.\u001B[39mcontent\u001B[38;5;241m.\u001B[39mparts[\u001B[38;5;241m0\u001B[39m]\u001B[38;5;241m.\u001B[39mtext\u001B[38;5;241m.\u001B[39msplit(\u001B[38;5;124m\"\u001B[39m\u001B[38;5;124m#\u001B[39m\u001B[38;5;124m\"\u001B[39m)\n",
      "File \u001B[0;32m/opt/anaconda3/envs/DataAndKnowledgeEngineering/lib/python3.11/site-packages/google/generativeai/generative_models.py:305\u001B[0m, in \u001B[0;36mGenerativeModel.generate_content\u001B[0;34m(self, contents, generation_config, safety_settings, stream, tools, tool_config, request_options)\u001B[0m\n\u001B[1;32m    302\u001B[0m \u001B[38;5;28;01mif\u001B[39;00m \u001B[38;5;129;01mnot\u001B[39;00m contents:\n\u001B[1;32m    303\u001B[0m     \u001B[38;5;28;01mraise\u001B[39;00m \u001B[38;5;167;01mTypeError\u001B[39;00m(\u001B[38;5;124m\"\u001B[39m\u001B[38;5;124mcontents must not be empty\u001B[39m\u001B[38;5;124m\"\u001B[39m)\n\u001B[0;32m--> 305\u001B[0m request \u001B[38;5;241m=\u001B[39m \u001B[38;5;28mself\u001B[39m\u001B[38;5;241m.\u001B[39m_prepare_request(\n\u001B[1;32m    306\u001B[0m     contents\u001B[38;5;241m=\u001B[39mcontents,\n\u001B[1;32m    307\u001B[0m     generation_config\u001B[38;5;241m=\u001B[39mgeneration_config,\n\u001B[1;32m    308\u001B[0m     safety_settings\u001B[38;5;241m=\u001B[39msafety_settings,\n\u001B[1;32m    309\u001B[0m     tools\u001B[38;5;241m=\u001B[39mtools,\n\u001B[1;32m    310\u001B[0m     tool_config\u001B[38;5;241m=\u001B[39mtool_config,\n\u001B[1;32m    311\u001B[0m )\n\u001B[1;32m    313\u001B[0m \u001B[38;5;28;01mif\u001B[39;00m request\u001B[38;5;241m.\u001B[39mcontents \u001B[38;5;129;01mand\u001B[39;00m \u001B[38;5;129;01mnot\u001B[39;00m request\u001B[38;5;241m.\u001B[39mcontents[\u001B[38;5;241m-\u001B[39m\u001B[38;5;241m1\u001B[39m]\u001B[38;5;241m.\u001B[39mrole:\n\u001B[1;32m    314\u001B[0m     request\u001B[38;5;241m.\u001B[39mcontents[\u001B[38;5;241m-\u001B[39m\u001B[38;5;241m1\u001B[39m]\u001B[38;5;241m.\u001B[39mrole \u001B[38;5;241m=\u001B[39m _USER_ROLE\n",
      "File \u001B[0;32m/opt/anaconda3/envs/DataAndKnowledgeEngineering/lib/python3.11/site-packages/google/generativeai/generative_models.py:154\u001B[0m, in \u001B[0;36mGenerativeModel._prepare_request\u001B[0;34m(self, contents, generation_config, safety_settings, tools, tool_config)\u001B[0m\n\u001B[1;32m    151\u001B[0m \u001B[38;5;28;01melse\u001B[39;00m:\n\u001B[1;32m    152\u001B[0m     tool_config \u001B[38;5;241m=\u001B[39m content_types\u001B[38;5;241m.\u001B[39mto_tool_config(tool_config)\n\u001B[0;32m--> 154\u001B[0m contents \u001B[38;5;241m=\u001B[39m content_types\u001B[38;5;241m.\u001B[39mto_contents(contents)\n\u001B[1;32m    156\u001B[0m generation_config \u001B[38;5;241m=\u001B[39m generation_types\u001B[38;5;241m.\u001B[39mto_generation_config_dict(generation_config)\n\u001B[1;32m    157\u001B[0m merged_gc \u001B[38;5;241m=\u001B[39m \u001B[38;5;28mself\u001B[39m\u001B[38;5;241m.\u001B[39m_generation_config\u001B[38;5;241m.\u001B[39mcopy()\n",
      "File \u001B[0;32m/opt/anaconda3/envs/DataAndKnowledgeEngineering/lib/python3.11/site-packages/google/generativeai/types/content_types.py:326\u001B[0m, in \u001B[0;36mto_contents\u001B[0;34m(contents)\u001B[0m\n\u001B[1;32m    323\u001B[0m \u001B[38;5;28;01mif\u001B[39;00m \u001B[38;5;28misinstance\u001B[39m(contents, Iterable) \u001B[38;5;129;01mand\u001B[39;00m \u001B[38;5;129;01mnot\u001B[39;00m \u001B[38;5;28misinstance\u001B[39m(contents, (\u001B[38;5;28mstr\u001B[39m, Mapping)):\n\u001B[1;32m    324\u001B[0m     \u001B[38;5;28;01mtry\u001B[39;00m:\n\u001B[1;32m    325\u001B[0m         \u001B[38;5;66;03m# strict_to_content so [[parts], [parts]] doesn't assume roles.\u001B[39;00m\n\u001B[0;32m--> 326\u001B[0m         contents \u001B[38;5;241m=\u001B[39m [strict_to_content(c) \u001B[38;5;28;01mfor\u001B[39;00m c \u001B[38;5;129;01min\u001B[39;00m contents]\n\u001B[1;32m    327\u001B[0m         \u001B[38;5;28;01mreturn\u001B[39;00m contents\n\u001B[1;32m    328\u001B[0m     \u001B[38;5;28;01mexcept\u001B[39;00m \u001B[38;5;167;01mTypeError\u001B[39;00m:\n\u001B[1;32m    329\u001B[0m         \u001B[38;5;66;03m# If you get a TypeError here it's probably because that was a list\u001B[39;00m\n\u001B[1;32m    330\u001B[0m         \u001B[38;5;66;03m# of parts, not a list of contents, so fall back to `to_content`.\u001B[39;00m\n",
      "File \u001B[0;32m/opt/anaconda3/envs/DataAndKnowledgeEngineering/lib/python3.11/site-packages/google/generativeai/types/content_types.py:326\u001B[0m, in \u001B[0;36m<listcomp>\u001B[0;34m(.0)\u001B[0m\n\u001B[1;32m    323\u001B[0m \u001B[38;5;28;01mif\u001B[39;00m \u001B[38;5;28misinstance\u001B[39m(contents, Iterable) \u001B[38;5;129;01mand\u001B[39;00m \u001B[38;5;129;01mnot\u001B[39;00m \u001B[38;5;28misinstance\u001B[39m(contents, (\u001B[38;5;28mstr\u001B[39m, Mapping)):\n\u001B[1;32m    324\u001B[0m     \u001B[38;5;28;01mtry\u001B[39;00m:\n\u001B[1;32m    325\u001B[0m         \u001B[38;5;66;03m# strict_to_content so [[parts], [parts]] doesn't assume roles.\u001B[39;00m\n\u001B[0;32m--> 326\u001B[0m         contents \u001B[38;5;241m=\u001B[39m [strict_to_content(c) \u001B[38;5;28;01mfor\u001B[39;00m c \u001B[38;5;129;01min\u001B[39;00m contents]\n\u001B[1;32m    327\u001B[0m         \u001B[38;5;28;01mreturn\u001B[39;00m contents\n\u001B[1;32m    328\u001B[0m     \u001B[38;5;28;01mexcept\u001B[39;00m \u001B[38;5;167;01mTypeError\u001B[39;00m:\n\u001B[1;32m    329\u001B[0m         \u001B[38;5;66;03m# If you get a TypeError here it's probably because that was a list\u001B[39;00m\n\u001B[1;32m    330\u001B[0m         \u001B[38;5;66;03m# of parts, not a list of contents, so fall back to `to_content`.\u001B[39;00m\n",
      "File \u001B[0;32m/opt/anaconda3/envs/DataAndKnowledgeEngineering/lib/python3.11/site-packages/google/generativeai/types/content_types.py:304\u001B[0m, in \u001B[0;36mstrict_to_content\u001B[0;34m(content)\u001B[0m\n\u001B[1;32m    302\u001B[0m \u001B[38;5;28;01mdef\u001B[39;00m \u001B[38;5;21mstrict_to_content\u001B[39m(content: StrictContentType):\n\u001B[1;32m    303\u001B[0m     \u001B[38;5;28;01mif\u001B[39;00m \u001B[38;5;28misinstance\u001B[39m(content, Mapping):\n\u001B[0;32m--> 304\u001B[0m         content \u001B[38;5;241m=\u001B[39m _convert_dict(content)\n\u001B[1;32m    306\u001B[0m     \u001B[38;5;28;01mif\u001B[39;00m \u001B[38;5;28misinstance\u001B[39m(content, protos\u001B[38;5;241m.\u001B[39mContent):\n\u001B[1;32m    307\u001B[0m         \u001B[38;5;28;01mreturn\u001B[39;00m content\n",
      "File \u001B[0;32m/opt/anaconda3/envs/DataAndKnowledgeEngineering/lib/python3.11/site-packages/google/generativeai/types/content_types.py:163\u001B[0m, in \u001B[0;36m_convert_dict\u001B[0;34m(d)\u001B[0m\n\u001B[1;32m    161\u001B[0m     \u001B[38;5;28;01mif\u001B[39;00m \u001B[38;5;28misinstance\u001B[39m(parts \u001B[38;5;241m:=\u001B[39m content[\u001B[38;5;124m\"\u001B[39m\u001B[38;5;124mparts\u001B[39m\u001B[38;5;124m\"\u001B[39m], \u001B[38;5;28mstr\u001B[39m):\n\u001B[1;32m    162\u001B[0m         content[\u001B[38;5;124m\"\u001B[39m\u001B[38;5;124mparts\u001B[39m\u001B[38;5;124m\"\u001B[39m] \u001B[38;5;241m=\u001B[39m [parts]\n\u001B[0;32m--> 163\u001B[0m     content[\u001B[38;5;124m\"\u001B[39m\u001B[38;5;124mparts\u001B[39m\u001B[38;5;124m\"\u001B[39m] \u001B[38;5;241m=\u001B[39m [to_part(part) \u001B[38;5;28;01mfor\u001B[39;00m part \u001B[38;5;129;01min\u001B[39;00m content[\u001B[38;5;124m\"\u001B[39m\u001B[38;5;124mparts\u001B[39m\u001B[38;5;124m\"\u001B[39m]]\n\u001B[1;32m    164\u001B[0m     \u001B[38;5;28;01mreturn\u001B[39;00m protos\u001B[38;5;241m.\u001B[39mContent(content)\n\u001B[1;32m    165\u001B[0m \u001B[38;5;28;01melif\u001B[39;00m is_part_dict(d):\n",
      "File \u001B[0;32m/opt/anaconda3/envs/DataAndKnowledgeEngineering/lib/python3.11/site-packages/google/generativeai/types/content_types.py:163\u001B[0m, in \u001B[0;36m<listcomp>\u001B[0;34m(.0)\u001B[0m\n\u001B[1;32m    161\u001B[0m     \u001B[38;5;28;01mif\u001B[39;00m \u001B[38;5;28misinstance\u001B[39m(parts \u001B[38;5;241m:=\u001B[39m content[\u001B[38;5;124m\"\u001B[39m\u001B[38;5;124mparts\u001B[39m\u001B[38;5;124m\"\u001B[39m], \u001B[38;5;28mstr\u001B[39m):\n\u001B[1;32m    162\u001B[0m         content[\u001B[38;5;124m\"\u001B[39m\u001B[38;5;124mparts\u001B[39m\u001B[38;5;124m\"\u001B[39m] \u001B[38;5;241m=\u001B[39m [parts]\n\u001B[0;32m--> 163\u001B[0m     content[\u001B[38;5;124m\"\u001B[39m\u001B[38;5;124mparts\u001B[39m\u001B[38;5;124m\"\u001B[39m] \u001B[38;5;241m=\u001B[39m [to_part(part) \u001B[38;5;28;01mfor\u001B[39;00m part \u001B[38;5;129;01min\u001B[39;00m content[\u001B[38;5;124m\"\u001B[39m\u001B[38;5;124mparts\u001B[39m\u001B[38;5;124m\"\u001B[39m]]\n\u001B[1;32m    164\u001B[0m     \u001B[38;5;28;01mreturn\u001B[39;00m protos\u001B[38;5;241m.\u001B[39mContent(content)\n\u001B[1;32m    165\u001B[0m \u001B[38;5;28;01melif\u001B[39;00m is_part_dict(d):\n",
      "File \u001B[0;32m/opt/anaconda3/envs/DataAndKnowledgeEngineering/lib/python3.11/site-packages/google/generativeai/types/content_types.py:247\u001B[0m, in \u001B[0;36mto_part\u001B[0;34m(part)\u001B[0m\n\u001B[1;32m    245\u001B[0m \u001B[38;5;28;01mdef\u001B[39;00m \u001B[38;5;21mto_part\u001B[39m(part: PartType):\n\u001B[1;32m    246\u001B[0m     \u001B[38;5;28;01mif\u001B[39;00m \u001B[38;5;28misinstance\u001B[39m(part, Mapping):\n\u001B[0;32m--> 247\u001B[0m         part \u001B[38;5;241m=\u001B[39m _convert_dict(part)\n\u001B[1;32m    249\u001B[0m     \u001B[38;5;28;01mif\u001B[39;00m \u001B[38;5;28misinstance\u001B[39m(part, protos\u001B[38;5;241m.\u001B[39mPart):\n\u001B[1;32m    250\u001B[0m         \u001B[38;5;28;01mreturn\u001B[39;00m part\n",
      "File \u001B[0;32m/opt/anaconda3/envs/DataAndKnowledgeEngineering/lib/python3.11/site-packages/google/generativeai/types/content_types.py:176\u001B[0m, in \u001B[0;36m_convert_dict\u001B[0;34m(d)\u001B[0m\n\u001B[1;32m    174\u001B[0m     \u001B[38;5;28;01mreturn\u001B[39;00m protos\u001B[38;5;241m.\u001B[39mBlob(blob)\n\u001B[1;32m    175\u001B[0m \u001B[38;5;28;01melse\u001B[39;00m:\n\u001B[0;32m--> 176\u001B[0m     \u001B[38;5;28;01mraise\u001B[39;00m \u001B[38;5;167;01mKeyError\u001B[39;00m(\n\u001B[1;32m    177\u001B[0m         \u001B[38;5;124m\"\u001B[39m\u001B[38;5;124mUnable to determine the intended type of the `dict`. \u001B[39m\u001B[38;5;124m\"\u001B[39m\n\u001B[1;32m    178\u001B[0m         \u001B[38;5;124m\"\u001B[39m\u001B[38;5;124mFor `Content`, a \u001B[39m\u001B[38;5;124m'\u001B[39m\u001B[38;5;124mparts\u001B[39m\u001B[38;5;124m'\u001B[39m\u001B[38;5;124m key is expected. \u001B[39m\u001B[38;5;124m\"\u001B[39m\n\u001B[1;32m    179\u001B[0m         \u001B[38;5;124m\"\u001B[39m\u001B[38;5;124mFor `Part`, either an \u001B[39m\u001B[38;5;124m'\u001B[39m\u001B[38;5;124minline_data\u001B[39m\u001B[38;5;124m'\u001B[39m\u001B[38;5;124m or a \u001B[39m\u001B[38;5;124m'\u001B[39m\u001B[38;5;124mtext\u001B[39m\u001B[38;5;124m'\u001B[39m\u001B[38;5;124m key is expected. \u001B[39m\u001B[38;5;124m\"\u001B[39m\n\u001B[1;32m    180\u001B[0m         \u001B[38;5;124m\"\u001B[39m\u001B[38;5;124mFor `Blob`, both \u001B[39m\u001B[38;5;124m'\u001B[39m\u001B[38;5;124mmime_type\u001B[39m\u001B[38;5;124m'\u001B[39m\u001B[38;5;124m and \u001B[39m\u001B[38;5;124m'\u001B[39m\u001B[38;5;124mdata\u001B[39m\u001B[38;5;124m'\u001B[39m\u001B[38;5;124m keys are expected. \u001B[39m\u001B[38;5;124m\"\u001B[39m\n\u001B[1;32m    181\u001B[0m         \u001B[38;5;124mf\u001B[39m\u001B[38;5;124m\"\u001B[39m\u001B[38;5;124mHowever, the provided dictionary has the following keys: \u001B[39m\u001B[38;5;132;01m{\u001B[39;00m\u001B[38;5;28mlist\u001B[39m(d\u001B[38;5;241m.\u001B[39mkeys())\u001B[38;5;132;01m}\u001B[39;00m\u001B[38;5;124m\"\u001B[39m\n\u001B[1;32m    182\u001B[0m     )\n",
      "\u001B[0;31mKeyError\u001B[0m: \"Unable to determine the intended type of the `dict`. For `Content`, a 'parts' key is expected. For `Part`, either an 'inline_data' or a 'text' key is expected. For `Blob`, both 'mime_type' and 'data' keys are expected. However, the provided dictionary has the following keys: ['text', 'role']\""
     ]
    }
   ],
   "execution_count": 1
  },
  {
   "metadata": {},
   "cell_type": "code",
   "outputs": [],
   "execution_count": null,
   "source": "",
   "id": "bd31ec51582453cb"
  }
 ],
 "metadata": {
  "kernelspec": {
   "display_name": "Python 3",
   "language": "python",
   "name": "python3"
  },
  "language_info": {
   "codemirror_mode": {
    "name": "ipython",
    "version": 2
   },
   "file_extension": ".py",
   "mimetype": "text/x-python",
   "name": "python",
   "nbconvert_exporter": "python",
   "pygments_lexer": "ipython2",
   "version": "2.7.6"
  }
 },
 "nbformat": 4,
 "nbformat_minor": 5
}
