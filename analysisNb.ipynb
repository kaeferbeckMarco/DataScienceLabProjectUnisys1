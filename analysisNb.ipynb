{
 "cells": [
  {
   "cell_type": "code",
   "id": "initial_id",
   "metadata": {
    "collapsed": true,
    "ExecuteTime": {
     "end_time": "2024-12-09T19:04:22.485906Z",
     "start_time": "2024-12-09T19:03:54.488039Z"
    }
   },
   "source": [
    "from LLM import LLM\n",
    "from BusinessRuleExtractor import BusinessRuleExtractor\n",
    "from PyPDF2 import PdfReader\n",
    "\n",
    "def read_pdf(file_path):\n",
    "    reader = PdfReader(file_path)\n",
    "    text = \"\"\n",
    "    for page in reader.pages:\n",
    "        text += page.extract_text() + \"\\n\"\n",
    "    return text\n",
    "\n",
    "# Example usage\n",
    "# Replace this with the path to your PDF document\n",
    "file_path = \"resources/business_rules_document.pdf\"\n",
    "\n",
    "# Read the content of the PDF document\n",
    "legal_text = read_pdf(file_path)\n",
    "\n",
    "# Create an instance of BusinessRuleExtractionLibrary\n",
    "ruleExtractor = BusinessRuleExtractor(LLM.OLLAMA)\n",
    "\n",
    "rules = ruleExtractor.extract_business_rules_from_document(legal_text)\n",
    "\n",
    "# Output the Prolog rules\n",
    "print(rules)"
   ],
   "outputs": [
    {
     "name": "stdout",
     "output_type": "stream",
     "text": [
      "[\"I'm happy to help, but you haven't provided a text segment for me to extract the rules from. Could you please provide the text, and I'll do my best to convert it into Prolog format?\", 'Here are the extracted rules in Prolog format:\\n\\n```prolog\\n% Rule 1: Customer must provide valid identification\\nvalidate_identity(X) :- identity(X).\\nidentity(X).\\n\\n% Rule 2: Customer must agree to terms and conditions\\nagree_to_terms(X) :- accept_terms(X).\\naccept_terms(X).\\n```\\n\\nNote that these Prolog rules are very simple and do not include any actual validation or verification logic. In a real-world implementation, the `validate_identity/1` and `agree_to_terms/1` predicates would contain more complex definitions to enforce the actual requirements of the rules.\\n\\nAlso, please note that in Prolog, it is conventional to use lowercase letters for variable names and uppercase letters for predicate names. I have followed this convention in the above code snippet.', 'Unfortunately, I couldn\\'t find any rules mentioned in the given text segment. The provided \"text\" only contains statements, but no Prolog-style rules.\\n\\nProlog rules typically have a specific format: \\n\\nHead :- Body\\n\\nWhere Head is the conclusion and Body is one or more clauses that imply it.\\n\\nIf you\\'d like to create rules from the statements, here are two possible examples:\\n\\n```prolog\\n% Rule 1: All customer data must be encrypted when stored.\\nencrypted_data :-\\n    stored_data,\\n    !.\\n\\n% Rule 2: Employees cannot approve their own expense reports.\\ncannot_approve_expense_report :-\\n    employee(self),\\n    expense_report(self).\\n```\\n\\nPlease note that these are just one possible way to represent rules in Prolog format, and there might be other interpretations depending on the context.', 'Here are the extracted rules in Prolog format:\\n\\n```prolog\\n% Rule 1: Transactions over $10,000 must be reported\\nreport_to_compliance(TransactionValue) :- TransactionValue > 10000.\\n\\n% Rule 2: Refunds can only be issued within 30 days of purchase date\\nrefund_eligible(PurchaseDate, IssuedDate) :-\\n    PurchaseDate >= DateYesterday,\\n    DateYesterday + 30 > IssuedDate.\\n```\\n\\nNote that `TransactionValue` and `PurchaseDate` are predicates (or variables), which are used to represent entities in the rules. The actual values of these predicates would depend on the context in which they are being used.\\n\\nAlso, note that I assumed that `DateYesterday` is a built-in predicate or variable that represents the date 30 days prior to a given date. If this is not the case, you may need to modify the second rule accordingly.', \"Here are the extracted rules in Prolog format:\\n\\n```prolog\\n% Rule 1: Minimum credit score for loan application\\nmin_credit_score(650).\\n\\n% Rule 2: Vendor approval process\\napproved_by Procurement(vendor).\\n```\\n\\nNote that I've simplified the rules to their essence, focusing on the minimum credit score and the vendor approval process. In a real-world Prolog implementation, you might want to consider using more formal representation of rules, such as predicate/argument pairs or clauses. \\n\\nFor example:\\n\\n```prolog\\n% Rule 1: Minimum credit score for loan application\\n:- min_credit_score(650).\\nmin_credit_score(650).\\n\\n% Rule 2: Vendor approval process\\nvendor_approved(vendor) :- approved_by Procurement.\\napproved_by Procurement(vendor).\\n```\\n\\nThis representation uses the `:-` symbol to indicate a rule, and `min_credit_score/1` is defined as a predicate that takes one argument (the minimum credit score). The second clause simply redefines this predicate for better readability.\", 'Here are the extracted rules in Prolog format:\\n\\n```\\n% Rule 9: No employee can approve their own expense report\\napprove_expense_report(Expense, Approver) :- Approver \\\\= Employee,\\n                                  where(Employee is Expense.expense_submitter).\\n\\n% Rule 10: Manager must approve any discount greater than 20%\\ndiscount_approved(Disc, Manager, Approved) :-\\n    Disc > 0.2,\\n    Manager = expense_manager.\\n```', \"Unfortunately, you didn't provide any text segment for me to extract rules from. The text snippet you shared earlier was incomplete.\\n\\nIf you could provide the complete text segment or point me in the direction of where to find it (e.g., a document, a website, etc.), I'd be happy to help you extract the rules in Prolog format.\", \"I don't see a text segment provided. Please provide the text segment you'd like me to extract rules from, and I'll be happy to assist you in converting them into Prolog format.\"]\n"
     ]
    }
   ],
   "execution_count": 2
  },
  {
   "metadata": {
    "ExecuteTime": {
     "end_time": "2024-12-09T19:08:17.444818Z",
     "start_time": "2024-12-09T19:06:53.514797Z"
    }
   },
   "cell_type": "code",
   "source": [
    "from LLM import LLM\n",
    "from BusinessRuleExtractor import BusinessRuleExtractor\n",
    "from PyPDF2 import PdfReader\n",
    "\n",
    "def read_pdf(file_path):\n",
    "    reader = PdfReader(file_path)\n",
    "    text = \"\"\n",
    "    for page in reader.pages:\n",
    "        text += page.extract_text() + \"\\n\"\n",
    "    return text\n",
    "\n",
    "# Example usage\n",
    "# Replace this with the path to your PDF document\n",
    "file_path = \"resources/business_rules_document.pdf\"\n",
    "\n",
    "# Read the content of the PDF document\n",
    "legal_text = read_pdf(file_path)\n",
    "\n",
    "# Create an instance of BusinessRuleExtractionLibrary\n",
    "ruleExtractor = BusinessRuleExtractor(LLM.MISTRAL)\n",
    "\n",
    "rules = ruleExtractor.extract_business_rules_from_document(legal_text)\n",
    "\n",
    "# Output the Prolog rules\n",
    "print(rules)"
   ],
   "id": "80658bcde4b19781",
   "outputs": [
    {
     "name": "stdout",
     "output_type": "stream",
     "text": [
      "[\"1. rule_1(X, Y) :- brother(X), man(Y), different_from(X, Y).\\n\\nrule_2(X) :- sister(X), woman(X).\\n\\nrule_3(X) :- parent(X, Y), Y < 18, child(X).\\n\\nrule_4(X, Y) :- uncle(X), brother(Y).\\n\\nrule_5(X, Y) :- aunt(X), sister(Y).\\n\\nrule_6(X) :- parent(X, Y), Y = father(Y).\\n\\nrule_7(X) :- parent(X, Y), Y = mother(Y).\\n\\nrule_8(X, Y) :- sibling(X, Y), different_from(X, Y).\\n\\nrule_9(X, Y) :- different_from(X, Y), not(sibling(X, Y)).\\n\\nrule_10(X, Y) :- parent(X, Y), X \\\\= Y.\\n\\nrule_11(X, Y) :- mother(X), man(Y), child(Y).\\n\\nrule_12(X, Y) :- father(X), woman(Y), child(Y).\\n\\nrule_13(X, Y) :- brother(X), Y = X.\\n\\nrule_14(X, Y) :- sister(X), Y = X.\\n\\nrule_15(X) :- different_from(X, self).\\n\\nrule_16(X) :- man(X).\\n\\nrule_17(X) :- woman(X).\\n\\nrule_18(X) :- brother(X).\\n\\nrule_19(X) :- sister(X).\\n\\nrule_20(X) :- uncle(X).\\n\\nrule_21(X) :- aunt(X).\\n\\nrule_22(X) :- parent(X, _).\\n\\nrule_23(X) :- child(X).\\n\\nrule_24(X, Y) :- different_from(X, Y), not(parent(X, Y)).\\n\\nrule_25(X, Y) :- X \\\\= Y.\\n\\nrule_26(X) :- not(man(X)).\\n\\nrule_27(X) :- not(woman(X)).\\n\\nWhere:\\n- man(X), woman(X), child(X), parent(X), brother(X), sister(X), uncle(X), aunt(X) are predicates for gender, family relations, and age.\\n- different_from(X, Y) is a predicate that checks if X and Y are not the same individual.\\n- The underscore '_' represents any variable in Prolog.\\n- The '\\\\=' operator is used to check if two variables are not equal.\", '1. open_account(Customer) :-\\n      has_valid_identification(Customer).\\n\\n2. has_valid_identification(Customer) :-\\n     true % This rule implies that any customer can have valid identification, no specific conditions are provided in the text segment.', \"1. report_transaction(Transaction) :- amount(Transaction), amount(Transaction) > 10000.\\n\\nIn this rule, we are defining a predicate `report_transaction/1` which will hold true for any transaction whose amount is greater than 10,000 dollars. This represents the fact that all transactions above $10,000 must be reported to the compliance department. The facts representing the transactions and their amounts should be defined separately in Prolog. For example:\\n\\n   - transaction(transaction_1, Amount).\\n   - amount(transaction_1, X) :- var(X), readln(X), X > 10000. % User input for transaction amount (replace 'readln' with appropriate function if not using XSB or SWI-Prolog)\", \"1. valid_application(Applicant) :- credit_score(Applicant, Score), Score >= 650.\\n\\nAssuming that the facts about the applicants' credit scores are stored in the database as `credit_score(Applicant, Score)`, where 'Applicant' is the name of the individual and 'Score' is the credit score. The rule above defines a predicate `valid_application/1` that checks whether an application can be processed based on the given criteria. It states that if the credit score of an applicant (Applicant) is 650 or above, then the loan application is valid.\", '1. no_self_approval(Employee):- Employee is approving_expense(Employee).\\n\\nThis rule represents the prohibition that employees cannot approve their own expense reports in Prolog format. The predicate \"no_self_approval/1\" checks if a specific employee (represented by the first argument of the predicate) is approving an expense report for themselves, which should not be the case according to the rule.', '1. refund_policy(Request):-\\n      days_since_purchase(Request, Days) ->\\n          Days < 30 -> true;\\n          false.\\n\\n  2. days_since_purchase(Request, Days):-\\n      Purchase_date(Purchase_day),\\n      Current_date(Current_day),\\n      difference(Current_day, Purchase_day, Days).\\n\\n  3. Purchase_date(Date) fact (The date of the purchase is saved as a fact in the system).\\n\\n  4. Current_date(Date) fact or query (The current date can be queried from a function or a fact in the system).', \"1. manager_approval(discount_greater_than_20%):-\\n      percentage(Discount), Discount > 20.\\n\\nThis rule in Prolog represents that if a discount is greater than 20%, it requires a manager's approval. The predicate `percentage/1` should be defined elsewhere as a built-in or user-defined predicate to handle numerical values as percentages.\", '1. user(Customer) :- agrees_to_terms_and_conditions(Customer).\\n\\n  2. agrees_to_terms_and_conditions(Customer) :- using_service(Customer), accepted_tc(Customer).\\n\\n  3. using_service(Customer) :- true. % Assuming that if a customer is interacting with the service, they are using it\\n\\n  4. accepted_tc(Customer) :- explicitly_accepted_tc(Customer).\\n\\n  5. accepted_tc(Customer) :- implicitly_accepted_tc(Customer).\\n\\n  6. explicitly_accepted_tc(Customer) :- clicked_accept_button(Customer).\\n\\n  7. implicitly_accepted_tc(Customer) :- first_use_of_service(Customer), not(clicked_reject_button(Customer)).\\n\\n  8. first_use_of_service(Customer) :- true. % Assuming that the first time a customer uses the service, it is their first use.\\n\\n  9. clicked_accept_button(Customer) :- true. % Assuming that clicking the accept button is represented as true in this context.\\n\\n  10. clicked_reject_button(Customer) :- true. % Assuming that clicking the reject button is represented as true in this context.', '1. encrypt_data(Data):\\n   Rule to represent that data should always be encrypted, regardless of whether it is being stored or transmitted.\\n\\n   This rule in Prolog format does not require specific conditions for storage or transmission because the policy states that all customer data must be encrypted in both cases. However, if more specific rules are needed (e.g., different encryption methods for stored data and transmitted data), additional rules could be defined as follows:\\n\\n   - encrypt_storage(Data): Rule to represent encryption of data when storing it.\\n   - encrypt_transmission(Data): Rule to represent encryption of data when transmitting it.\\n\\n   For example, if AES encryption is used for stored data and RSA encryption is used for transmitted data:\\n\\n   - encrypt_storage(Data) :- aes_encrypt(Data).\\n   - encrypt_transmission(Data) :- rsa_encrypt(Data).', '1. vet_and_approve_vendor(Vendor):-\\n      procurement_team_member,\\n      vet(Vendor).\\n\\n  2. procurement_team_member(X) :-\\n      % Assuming a list of known procurement team members is available as a fact base in the system\\n      % For example: procurement_team_members([John, Mary, David]).\\n\\n  3. vet(Vendor):-\\n      % Rules for vetting process, assuming some checks are performed on Vendor\\n      % These rules would involve specific conditions and facts about Vendor, not shown here due to the context.\\n\\n  4. sign_contract(Contract) :-\\n      approved_vendor(Vendor),\\n      Contract with vendor(Vendor).', \"1. check_inventory :-\\n       day(LastDayOfMonth) % This predicate checks if the current day is the last day of a month.\\n       Now is LastDayOfMonth. % The current date is the last day of the month.\\n       write('Conducting inventory check.'). % Write message to indicate the inventory check is being conducted.\\n\\n   Assuming we have day/2 predicate as part of Prolog's built-in calendar library, where:\\n\\n   1. day(1, january) :- true.\\n   2. day(31, february) :- non_leap_year.\\n   3. day(29, february) :- leap_year.\\n   4. day(30, month) :- member(month, [4, 6, 9, 11]). % Days in these months are 30\\n   5. day(31, month) :- \\\\+ member(month, [4, 6, 9, 11]). % All other months have 31 days\\n   6. leap_year :- year(Year), mod(Year, 400) =:= 0 ; (mod(Year, 4) =:= 0, \\\\+ mod(Year, 100)). % Year is a leap year if it's divisible by 400 or (divisible by 4 but not 100 except for years that are also divisible by 400).\"]\n"
     ]
    }
   ],
   "execution_count": 3
  },
  {
   "metadata": {},
   "cell_type": "code",
   "source": [
    "from LLM import LLM\n",
    "from BusinessRuleExtractor import BusinessRuleExtractor\n",
    "from PyPDF2 import PdfReader\n",
    "\n",
    "def read_pdf(file_path):\n",
    "    reader = PdfReader(file_path)\n",
    "    text = \"\"\n",
    "    for page in reader.pages:\n",
    "        text += page.extract_text() + \"\\n\"\n",
    "    return text\n",
    "\n",
    "# Example usage\n",
    "# Replace this with the path to your PDF document\n",
    "file_path = \"resources/business_rules_document.pdf\"\n",
    "\n",
    "# Read the content of the PDF document\n",
    "legal_text = read_pdf(file_path)\n",
    "\n",
    "# Create an instance of BusinessRuleExtractionLibrary\n",
    "ruleExtractor = BusinessRuleExtractor(LLM.GPT)\n",
    "\n",
    "rules = ruleExtractor.extract_business_rules_from_document(legal_text)\n",
    "\n",
    "# Output the Prolog rules\n",
    "print(rules)"
   ],
   "id": "fc6d8cd45ffdceac",
   "outputs": [],
   "execution_count": null
  },
  {
   "metadata": {
    "ExecuteTime": {
     "end_time": "2024-12-18T17:39:55.912259Z",
     "start_time": "2024-12-18T17:39:44.173461Z"
    }
   },
   "cell_type": "code",
   "source": [
    "from LLM import LLM\n",
    "from BusinessRuleExtractor import BusinessRuleExtractor\n",
    "from PyPDF2 import PdfReader\n",
    "\n",
    "def read_pdf(file_path):\n",
    "    reader = PdfReader(file_path)\n",
    "    text = \"\"\n",
    "    for page in reader.pages:\n",
    "        text += page.extract_text() + \"\\n\"\n",
    "    return text\n",
    "\n",
    "# Example usage\n",
    "# Replace this with the path to your PDF document\n",
    "file_path = \"resources/business_rules_document.pdf\"\n",
    "\n",
    "# Read the content of the PDF document\n",
    "legal_text = read_pdf(file_path)\n",
    "\n",
    "# Create an instance of BusinessRuleExtractionLibrary\n",
    "ruleExtractor = BusinessRuleExtractor(LLM.GEMINI)\n",
    "\n",
    "rules = ruleExtractor.extract_business_rules_from_document(legal_text)\n",
    "\n",
    "# Output the Prolog rules\n",
    "print(rules)"
   ],
   "id": "256ee957119f85aa",
   "outputs": [
    {
     "name": "stdout",
     "output_type": "stream",
     "text": [
      "['Please provide the text segment you wish me to analyze.  I need the legal text to extract the rules and represent them in Prolog format.\\n', '```prolog\\n% Customer Account Management\\n\\n% 1. Customers must provide valid identification before opening an account.\\n%    A customer can open an account only if they have a valid ID.\\ncanOpenAccount(CustomerID) :-\\n    customer(CustomerID),\\n    valid_id(CustomerID).\\n\\n% 7. Customers must agree to the terms and conditions before using the service.\\ncanUseService(CustomerID) :-\\n    customer(CustomerID),\\n    terms_agreement(CustomerID).\\n```\\n', '```prolog\\n% Transaction Reporting and Compliance\\nreportToCompliance(TransactionID) :-\\n    transaction(TransactionID, Amount),\\n    Amount > 10000.\\n```\\n', '```prolog\\n% Loan Application Process\\n% Rule: Loan applications can only be processed if the applicant has a credit score of 650 or above.\\n\\ncanProcessLoanApplication(ApplicantID) :-\\n    loanApplicant(ApplicantID),\\n    creditScore(ApplicantID, Score),\\n    Score >= 650.\\n```\\n', '```prolog\\n% Internal Controls and Expense Management\\n\\n% 4. Employees are not allowed to approve their own expense reports.\\ncanApproveExpense(EmployeeID, ReportID) :-\\n    expense_report(ReportID, Submitter),\\n    EmployeeID \\\\= Submitter.\\n```\\n', '```prolog\\n% Refunds and Returns\\neligibleForRefund(CustomerID, PurchaseID) :-\\n    purchase(CustomerID, PurchaseID, PurchaseDate),\\n    refundRequest(CustomerID, PurchaseID, RequestDate),\\n    daysBetween(PurchaseDate, RequestDate, Days),\\n    Days =< 30.\\n\\n```\\n', '```prolog\\n% Discount Approval Process\\nneedsManagerApproval(Discount) :- Discount > 20.\\n```\\n', '```prolog\\n% Data Security and Privacy\\n\\n% 8. All customer data must be encrypted when stored or transmitted.\\nstoreCustomerData(CustomerID, Data) :-\\n    customer(CustomerID),\\n    encrypt(Data, EncryptedData),\\n    store(EncryptedData).\\n\\ntransmitCustomerData(CustomerID, Data) :-\\n    customer(CustomerID),\\n    encrypt(Data, EncryptedData),\\n    transmit(EncryptedData).\\n```\\n', '```prolog\\n% Vendor Management and Procurement\\n\\n% 9. Vendors must be vetted and approved by the procurement team before signing contracts.\\ncanSignContract(VendorID) :-\\n  vendor(VendorID),\\n  vetted(VendorID),\\n  approvedByProcurement(VendorID).\\n```\\n', '```prolog\\n% Inventory Management\\nconductInventoryCheck(Date) :-\\n    end_of_month(Date).\\n```\\n']\n"
     ]
    }
   ],
   "execution_count": 1
  },
  {
   "metadata": {},
   "cell_type": "code",
   "outputs": [],
   "execution_count": null,
   "source": "",
   "id": "bd31ec51582453cb"
  }
 ],
 "metadata": {
  "kernelspec": {
   "display_name": "Python 3",
   "language": "python",
   "name": "python3"
  },
  "language_info": {
   "codemirror_mode": {
    "name": "ipython",
    "version": 2
   },
   "file_extension": ".py",
   "mimetype": "text/x-python",
   "name": "python",
   "nbconvert_exporter": "python",
   "pygments_lexer": "ipython2",
   "version": "2.7.6"
  }
 },
 "nbformat": 4,
 "nbformat_minor": 5
}
