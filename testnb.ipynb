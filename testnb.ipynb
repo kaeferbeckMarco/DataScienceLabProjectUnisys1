{
 "cells": [
  {
   "cell_type": "code",
   "id": "initial_id",
   "metadata": {
    "collapsed": true,
    "ExecuteTime": {
     "end_time": "2024-10-29T13:01:19.413331Z",
     "start_time": "2024-10-29T13:01:15.444972Z"
    }
   },
   "source": "%pip install llamaapi",
   "outputs": [
    {
     "name": "stdout",
     "output_type": "stream",
     "text": [
      "Requirement already satisfied: llamaapi in c:\\users\\anwender\\anaconda3\\lib\\site-packages (0.1.36)\n",
      "Requirement already satisfied: aiohttp<4.0.0,>=3.8.5 in c:\\users\\anwender\\anaconda3\\lib\\site-packages (from llamaapi) (3.8.5)\n",
      "Requirement already satisfied: nest-asyncio<2.0.0,>=1.5.6 in c:\\users\\anwender\\anaconda3\\lib\\site-packages (from llamaapi) (1.5.6)\n",
      "Requirement already satisfied: requests<3.0.0,>=2.27.1 in c:\\users\\anwender\\anaconda3\\lib\\site-packages (from llamaapi) (2.31.0)\n",
      "Requirement already satisfied: attrs>=17.3.0 in c:\\users\\anwender\\anaconda3\\lib\\site-packages (from aiohttp<4.0.0,>=3.8.5->llamaapi) (22.1.0)\n",
      "Requirement already satisfied: charset-normalizer<4.0,>=2.0 in c:\\users\\anwender\\anaconda3\\lib\\site-packages (from aiohttp<4.0.0,>=3.8.5->llamaapi) (2.0.4)\n",
      "Requirement already satisfied: multidict<7.0,>=4.5 in c:\\users\\anwender\\anaconda3\\lib\\site-packages (from aiohttp<4.0.0,>=3.8.5->llamaapi) (6.0.2)\n",
      "Requirement already satisfied: async-timeout<5.0,>=4.0.0a3 in c:\\users\\anwender\\anaconda3\\lib\\site-packages (from aiohttp<4.0.0,>=3.8.5->llamaapi) (4.0.2)\n",
      "Requirement already satisfied: yarl<2.0,>=1.0 in c:\\users\\anwender\\anaconda3\\lib\\site-packages (from aiohttp<4.0.0,>=3.8.5->llamaapi) (1.8.1)\n",
      "Requirement already satisfied: frozenlist>=1.1.1 in c:\\users\\anwender\\anaconda3\\lib\\site-packages (from aiohttp<4.0.0,>=3.8.5->llamaapi) (1.3.3)\n",
      "Requirement already satisfied: aiosignal>=1.1.2 in c:\\users\\anwender\\anaconda3\\lib\\site-packages (from aiohttp<4.0.0,>=3.8.5->llamaapi) (1.2.0)\n",
      "Requirement already satisfied: idna<4,>=2.5 in c:\\users\\anwender\\anaconda3\\lib\\site-packages (from requests<3.0.0,>=2.27.1->llamaapi) (3.4)\n",
      "Requirement already satisfied: urllib3<3,>=1.21.1 in c:\\users\\anwender\\anaconda3\\lib\\site-packages (from requests<3.0.0,>=2.27.1->llamaapi) (1.26.16)\n",
      "Requirement already satisfied: certifi>=2017.4.17 in c:\\users\\anwender\\anaconda3\\lib\\site-packages (from requests<3.0.0,>=2.27.1->llamaapi) (2024.2.2)\n",
      "Note: you may need to restart the kernel to use updated packages.\n"
     ]
    }
   ],
   "execution_count": 1
  },
  {
   "metadata": {
    "ExecuteTime": {
     "end_time": "2024-10-29T13:01:24.318408Z",
     "start_time": "2024-10-29T13:01:22.540409Z"
    }
   },
   "cell_type": "code",
   "source": [
    "import json\n",
    "from llamaapi import LlamaAPI\n",
    "\n",
    "# Initialize the SDK\n",
    "llama = LlamaAPI(\"api_key\")\n",
    "\n",
    "# Build the API request\n",
    "api_request_json = {\n",
    "    \"model\": \"llama3.1-70b\",\n",
    "    \"messages\": [\n",
    "        {\"role\": \"user\", \"content\": \"What is the weather like in Vienna?\"},\n",
    "    ],\n",
    "    \"functions\": [\n",
    "        {\n",
    "            \"name\": \"get_current_weather\",\n",
    "            \"description\": \"Get the current weather in a given location\",\n",
    "            \"parameters\": {\n",
    "                \"type\": \"object\",\n",
    "                \"properties\": {\n",
    "                    \"location\": {\n",
    "                        \"type\": \"string\",\n",
    "                        \"description\": \"The city and state, e.g. San Francisco, CA\",\n",
    "                    },\n",
    "                    \"days\": {\n",
    "                        \"type\": \"number\",\n",
    "                        \"description\": \"for how many days ahead you wants the forecast\",\n",
    "                    },\n",
    "                    \"unit\": {\"type\": \"string\", \"enum\": [\"celsius\", \"fahrenheit\"]},\n",
    "                },\n",
    "            },\n",
    "            \"required\": [\"location\", \"days\"],\n",
    "        }\n",
    "    ],\n",
    "    \"stream\": False,\n",
    "    \"function_call\": \"get_current_weather\",\n",
    "}\n",
    "\n",
    "# Execute the Request\n",
    "response = llama.run(api_request_json)\n",
    "print(json.dumps(response.json(), indent=2))\n"
   ],
   "id": "a3a77ea57786ac66",
   "outputs": [
    {
     "ename": "Exception",
     "evalue": "POST 401 Insufficient balance.",
     "output_type": "error",
     "traceback": [
      "\u001B[1;31m---------------------------------------------------------------------------\u001B[0m",
      "\u001B[1;31mException\u001B[0m                                 Traceback (most recent call last)",
      "Cell \u001B[1;32mIn[2], line 39\u001B[0m\n\u001B[0;32m      8\u001B[0m api_request_json \u001B[38;5;241m=\u001B[39m {\n\u001B[0;32m      9\u001B[0m     \u001B[38;5;124m\"\u001B[39m\u001B[38;5;124mmodel\u001B[39m\u001B[38;5;124m\"\u001B[39m: \u001B[38;5;124m\"\u001B[39m\u001B[38;5;124mllama3.1-70b\u001B[39m\u001B[38;5;124m\"\u001B[39m,\n\u001B[0;32m     10\u001B[0m     \u001B[38;5;124m\"\u001B[39m\u001B[38;5;124mmessages\u001B[39m\u001B[38;5;124m\"\u001B[39m: [\n\u001B[1;32m   (...)\u001B[0m\n\u001B[0;32m     35\u001B[0m     \u001B[38;5;124m\"\u001B[39m\u001B[38;5;124mfunction_call\u001B[39m\u001B[38;5;124m\"\u001B[39m: \u001B[38;5;124m\"\u001B[39m\u001B[38;5;124mget_current_weather\u001B[39m\u001B[38;5;124m\"\u001B[39m,\n\u001B[0;32m     36\u001B[0m }\n\u001B[0;32m     38\u001B[0m \u001B[38;5;66;03m# Execute the Request\u001B[39;00m\n\u001B[1;32m---> 39\u001B[0m response \u001B[38;5;241m=\u001B[39m llama\u001B[38;5;241m.\u001B[39mrun(api_request_json)\n\u001B[0;32m     40\u001B[0m \u001B[38;5;28mprint\u001B[39m(json\u001B[38;5;241m.\u001B[39mdumps(response\u001B[38;5;241m.\u001B[39mjson(), indent\u001B[38;5;241m=\u001B[39m\u001B[38;5;241m2\u001B[39m))\n",
      "File \u001B[1;32m~\\anaconda3\\Lib\\site-packages\\llamaapi\\llamaapi.py:67\u001B[0m, in \u001B[0;36mLlamaAPI.run\u001B[1;34m(self, api_request_json)\u001B[0m\n\u001B[0;32m     65\u001B[0m     \u001B[38;5;28;01mreturn\u001B[39;00m \u001B[38;5;28mself\u001B[39m\u001B[38;5;241m.\u001B[39mrun_stream(api_request_json)\n\u001B[0;32m     66\u001B[0m \u001B[38;5;28;01melse\u001B[39;00m:\n\u001B[1;32m---> 67\u001B[0m     \u001B[38;5;28;01mreturn\u001B[39;00m \u001B[38;5;28mself\u001B[39m\u001B[38;5;241m.\u001B[39mrun_sync(api_request_json)\n",
      "File \u001B[1;32m~\\anaconda3\\Lib\\site-packages\\llamaapi\\llamaapi.py:53\u001B[0m, in \u001B[0;36mLlamaAPI.run_sync\u001B[1;34m(self, api_request_json)\u001B[0m\n\u001B[0;32m     51\u001B[0m response \u001B[38;5;241m=\u001B[39m requests\u001B[38;5;241m.\u001B[39mpost(\u001B[38;5;124mf\u001B[39m\u001B[38;5;124m\"\u001B[39m\u001B[38;5;132;01m{\u001B[39;00m\u001B[38;5;28mself\u001B[39m\u001B[38;5;241m.\u001B[39mhostname\u001B[38;5;132;01m}\u001B[39;00m\u001B[38;5;132;01m{\u001B[39;00m\u001B[38;5;28mself\u001B[39m\u001B[38;5;241m.\u001B[39mdomain_path\u001B[38;5;132;01m}\u001B[39;00m\u001B[38;5;124m\"\u001B[39m, headers\u001B[38;5;241m=\u001B[39m\u001B[38;5;28mself\u001B[39m\u001B[38;5;241m.\u001B[39mheaders, json\u001B[38;5;241m=\u001B[39mapi_request_json)\n\u001B[0;32m     52\u001B[0m \u001B[38;5;28;01mif\u001B[39;00m response\u001B[38;5;241m.\u001B[39mstatus_code \u001B[38;5;241m!=\u001B[39m \u001B[38;5;241m200\u001B[39m:        \n\u001B[1;32m---> 53\u001B[0m     \u001B[38;5;28;01mraise\u001B[39;00m \u001B[38;5;167;01mException\u001B[39;00m(\u001B[38;5;124mf\u001B[39m\u001B[38;5;124m\"\u001B[39m\u001B[38;5;124mPOST \u001B[39m\u001B[38;5;132;01m{\u001B[39;00mresponse\u001B[38;5;241m.\u001B[39mstatus_code\u001B[38;5;132;01m}\u001B[39;00m\u001B[38;5;124m \u001B[39m\u001B[38;5;132;01m{\u001B[39;00mresponse\u001B[38;5;241m.\u001B[39mjson()[\u001B[38;5;124m'\u001B[39m\u001B[38;5;124mdetail\u001B[39m\u001B[38;5;124m'\u001B[39m]\u001B[38;5;132;01m}\u001B[39;00m\u001B[38;5;124m\"\u001B[39m)\n\u001B[0;32m     54\u001B[0m \u001B[38;5;28;01mreturn\u001B[39;00m response\n",
      "\u001B[1;31mException\u001B[0m: POST 401 Insufficient balance."
     ]
    }
   ],
   "execution_count": 2
  },
  {
   "metadata": {
    "ExecuteTime": {
     "end_time": "2024-10-29T13:51:29.921720Z",
     "start_time": "2024-10-29T13:51:25.879670Z"
    }
   },
   "cell_type": "code",
   "source": "%pip install openai",
   "id": "ebf5d5012c7a40ff",
   "outputs": [
    {
     "name": "stdout",
     "output_type": "stream",
     "text": [
      "Requirement already satisfied: openai in c:\\users\\anwender\\anaconda3\\lib\\site-packages (1.52.2)\n",
      "Requirement already satisfied: anyio<5,>=3.5.0 in c:\\users\\anwender\\anaconda3\\lib\\site-packages (from openai) (3.5.0)\n",
      "Requirement already satisfied: distro<2,>=1.7.0 in c:\\users\\anwender\\anaconda3\\lib\\site-packages (from openai) (1.9.0)\n",
      "Requirement already satisfied: httpx<1,>=0.23.0 in c:\\users\\anwender\\anaconda3\\lib\\site-packages (from openai) (0.27.0)\n",
      "Requirement already satisfied: jiter<1,>=0.4.0 in c:\\users\\anwender\\anaconda3\\lib\\site-packages (from openai) (0.6.1)\n",
      "Requirement already satisfied: pydantic<3,>=1.9.0 in c:\\users\\anwender\\anaconda3\\lib\\site-packages (from openai) (1.10.18)\n",
      "Requirement already satisfied: sniffio in c:\\users\\anwender\\anaconda3\\lib\\site-packages (from openai) (1.2.0)\n",
      "Requirement already satisfied: tqdm>4 in c:\\users\\anwender\\anaconda3\\lib\\site-packages (from openai) (4.65.0)\n",
      "Requirement already satisfied: typing-extensions<5,>=4.11 in c:\\users\\anwender\\anaconda3\\lib\\site-packages (from openai) (4.12.2)\n",
      "Requirement already satisfied: idna>=2.8 in c:\\users\\anwender\\anaconda3\\lib\\site-packages (from anyio<5,>=3.5.0->openai) (3.4)\n",
      "Requirement already satisfied: certifi in c:\\users\\anwender\\anaconda3\\lib\\site-packages (from httpx<1,>=0.23.0->openai) (2024.8.30)\n",
      "Requirement already satisfied: httpcore==1.* in c:\\users\\anwender\\anaconda3\\lib\\site-packages (from httpx<1,>=0.23.0->openai) (1.0.2)\n",
      "Requirement already satisfied: h11<0.15,>=0.13 in c:\\users\\anwender\\anaconda3\\lib\\site-packages (from httpcore==1.*->httpx<1,>=0.23.0->openai) (0.14.0)\n",
      "Requirement already satisfied: colorama in c:\\users\\anwender\\anaconda3\\lib\\site-packages (from tqdm>4->openai) (0.4.6)\n",
      "Note: you may need to restart the kernel to use updated packages.\n"
     ]
    }
   ],
   "execution_count": 5
  },
  {
   "metadata": {
    "ExecuteTime": {
     "end_time": "2024-10-29T13:52:03.234597Z",
     "start_time": "2024-10-29T13:52:02.925346Z"
    }
   },
   "cell_type": "code",
   "source": [
    "#https://platform.openai.com/docs/quickstart?desktop-os=windows&language-preference=python\n",
    "\n",
    "from openai import OpenAI\n",
    "client = OpenAI()\n",
    "\n",
    "completion = client.chat.completions.create(\n",
    "    model=\"gpt-4o-mini\",\n",
    "    messages=[\n",
    "        {\"role\": \"system\", \"content\": \"You are a helpful assistant.\"},\n",
    "        {\n",
    "            \"role\": \"user\",\n",
    "            \"content\": \"Write a haiku about recursion in programming.\"\n",
    "        }\n",
    "    ]\n",
    ")\n",
    "\n",
    "print(completion.choices[0].message)\n",
    "\n"
   ],
   "id": "94ee56c3b120250c",
   "outputs": [
    {
     "ename": "ImportError",
     "evalue": "cannot import name 'model_json_schema' from 'openai._compat' (C:\\Users\\Anwender\\anaconda3\\Lib\\site-packages\\openai\\_compat.py)",
     "output_type": "error",
     "traceback": [
      "\u001B[1;31m---------------------------------------------------------------------------\u001B[0m",
      "\u001B[1;31mImportError\u001B[0m                               Traceback (most recent call last)",
      "Cell \u001B[1;32mIn[7], line 1\u001B[0m\n\u001B[1;32m----> 1\u001B[0m \u001B[38;5;28;01mfrom\u001B[39;00m \u001B[38;5;21;01mopenai\u001B[39;00m \u001B[38;5;28;01mimport\u001B[39;00m OpenAI\n\u001B[0;32m      2\u001B[0m client \u001B[38;5;241m=\u001B[39m OpenAI()\n\u001B[0;32m      4\u001B[0m completion \u001B[38;5;241m=\u001B[39m client\u001B[38;5;241m.\u001B[39mchat\u001B[38;5;241m.\u001B[39mcompletions\u001B[38;5;241m.\u001B[39mcreate(\n\u001B[0;32m      5\u001B[0m     model\u001B[38;5;241m=\u001B[39m\u001B[38;5;124m\"\u001B[39m\u001B[38;5;124mgpt-4o-mini\u001B[39m\u001B[38;5;124m\"\u001B[39m,\n\u001B[0;32m      6\u001B[0m     messages\u001B[38;5;241m=\u001B[39m[\n\u001B[1;32m   (...)\u001B[0m\n\u001B[0;32m     12\u001B[0m     ]\n\u001B[0;32m     13\u001B[0m )\n",
      "File \u001B[1;32m~\\anaconda3\\Lib\\site-packages\\openai\\__init__.py:11\u001B[0m\n\u001B[0;32m      9\u001B[0m \u001B[38;5;28;01mfrom\u001B[39;00m \u001B[38;5;21;01m.\u001B[39;00m\u001B[38;5;21;01m_types\u001B[39;00m \u001B[38;5;28;01mimport\u001B[39;00m NOT_GIVEN, NoneType, NotGiven, Transport, ProxiesTypes\n\u001B[0;32m     10\u001B[0m \u001B[38;5;28;01mfrom\u001B[39;00m \u001B[38;5;21;01m.\u001B[39;00m\u001B[38;5;21;01m_utils\u001B[39;00m \u001B[38;5;28;01mimport\u001B[39;00m file_from_path\n\u001B[1;32m---> 11\u001B[0m \u001B[38;5;28;01mfrom\u001B[39;00m \u001B[38;5;21;01m.\u001B[39;00m\u001B[38;5;21;01m_client\u001B[39;00m \u001B[38;5;28;01mimport\u001B[39;00m Client, OpenAI, Stream, Timeout, Transport, AsyncClient, AsyncOpenAI, AsyncStream, RequestOptions\n\u001B[0;32m     12\u001B[0m \u001B[38;5;28;01mfrom\u001B[39;00m \u001B[38;5;21;01m.\u001B[39;00m\u001B[38;5;21;01m_models\u001B[39;00m \u001B[38;5;28;01mimport\u001B[39;00m BaseModel\n\u001B[0;32m     13\u001B[0m \u001B[38;5;28;01mfrom\u001B[39;00m \u001B[38;5;21;01m.\u001B[39;00m\u001B[38;5;21;01m_version\u001B[39;00m \u001B[38;5;28;01mimport\u001B[39;00m __title__, __version__\n",
      "File \u001B[1;32m~\\anaconda3\\Lib\\site-packages\\openai\\_client.py:11\u001B[0m\n\u001B[0;32m      7\u001B[0m \u001B[38;5;28;01mfrom\u001B[39;00m \u001B[38;5;21;01mtyping_extensions\u001B[39;00m \u001B[38;5;28;01mimport\u001B[39;00m Self, override\n\u001B[0;32m      9\u001B[0m \u001B[38;5;28;01mimport\u001B[39;00m \u001B[38;5;21;01mhttpx\u001B[39;00m\n\u001B[1;32m---> 11\u001B[0m \u001B[38;5;28;01mfrom\u001B[39;00m \u001B[38;5;21;01m.\u001B[39;00m \u001B[38;5;28;01mimport\u001B[39;00m resources, _exceptions\n\u001B[0;32m     12\u001B[0m \u001B[38;5;28;01mfrom\u001B[39;00m \u001B[38;5;21;01m.\u001B[39;00m\u001B[38;5;21;01m_qs\u001B[39;00m \u001B[38;5;28;01mimport\u001B[39;00m Querystring\n\u001B[0;32m     13\u001B[0m \u001B[38;5;28;01mfrom\u001B[39;00m \u001B[38;5;21;01m.\u001B[39;00m\u001B[38;5;21;01m_types\u001B[39;00m \u001B[38;5;28;01mimport\u001B[39;00m (\n\u001B[0;32m     14\u001B[0m     NOT_GIVEN,\n\u001B[0;32m     15\u001B[0m     Omit,\n\u001B[1;32m   (...)\u001B[0m\n\u001B[0;32m     20\u001B[0m     RequestOptions,\n\u001B[0;32m     21\u001B[0m )\n",
      "File \u001B[1;32m~\\anaconda3\\Lib\\site-packages\\openai\\resources\\__init__.py:3\u001B[0m\n\u001B[0;32m      1\u001B[0m \u001B[38;5;66;03m# File generated from our OpenAPI spec by Stainless. See CONTRIBUTING.md for details.\u001B[39;00m\n\u001B[1;32m----> 3\u001B[0m \u001B[38;5;28;01mfrom\u001B[39;00m \u001B[38;5;21;01m.\u001B[39;00m\u001B[38;5;21;01mbeta\u001B[39;00m \u001B[38;5;28;01mimport\u001B[39;00m (\n\u001B[0;32m      4\u001B[0m     Beta,\n\u001B[0;32m      5\u001B[0m     AsyncBeta,\n\u001B[0;32m      6\u001B[0m     BetaWithRawResponse,\n\u001B[0;32m      7\u001B[0m     AsyncBetaWithRawResponse,\n\u001B[0;32m      8\u001B[0m     BetaWithStreamingResponse,\n\u001B[0;32m      9\u001B[0m     AsyncBetaWithStreamingResponse,\n\u001B[0;32m     10\u001B[0m )\n\u001B[0;32m     11\u001B[0m \u001B[38;5;28;01mfrom\u001B[39;00m \u001B[38;5;21;01m.\u001B[39;00m\u001B[38;5;21;01mchat\u001B[39;00m \u001B[38;5;28;01mimport\u001B[39;00m (\n\u001B[0;32m     12\u001B[0m     Chat,\n\u001B[0;32m     13\u001B[0m     AsyncChat,\n\u001B[1;32m   (...)\u001B[0m\n\u001B[0;32m     17\u001B[0m     AsyncChatWithStreamingResponse,\n\u001B[0;32m     18\u001B[0m )\n\u001B[0;32m     19\u001B[0m \u001B[38;5;28;01mfrom\u001B[39;00m \u001B[38;5;21;01m.\u001B[39;00m\u001B[38;5;21;01maudio\u001B[39;00m \u001B[38;5;28;01mimport\u001B[39;00m (\n\u001B[0;32m     20\u001B[0m     Audio,\n\u001B[0;32m     21\u001B[0m     AsyncAudio,\n\u001B[1;32m   (...)\u001B[0m\n\u001B[0;32m     25\u001B[0m     AsyncAudioWithStreamingResponse,\n\u001B[0;32m     26\u001B[0m )\n",
      "File \u001B[1;32m~\\anaconda3\\Lib\\site-packages\\openai\\resources\\beta\\__init__.py:3\u001B[0m\n\u001B[0;32m      1\u001B[0m \u001B[38;5;66;03m# File generated from our OpenAPI spec by Stainless. See CONTRIBUTING.md for details.\u001B[39;00m\n\u001B[1;32m----> 3\u001B[0m \u001B[38;5;28;01mfrom\u001B[39;00m \u001B[38;5;21;01m.\u001B[39;00m\u001B[38;5;21;01mbeta\u001B[39;00m \u001B[38;5;28;01mimport\u001B[39;00m (\n\u001B[0;32m      4\u001B[0m     Beta,\n\u001B[0;32m      5\u001B[0m     AsyncBeta,\n\u001B[0;32m      6\u001B[0m     BetaWithRawResponse,\n\u001B[0;32m      7\u001B[0m     AsyncBetaWithRawResponse,\n\u001B[0;32m      8\u001B[0m     BetaWithStreamingResponse,\n\u001B[0;32m      9\u001B[0m     AsyncBetaWithStreamingResponse,\n\u001B[0;32m     10\u001B[0m )\n\u001B[0;32m     11\u001B[0m \u001B[38;5;28;01mfrom\u001B[39;00m \u001B[38;5;21;01m.\u001B[39;00m\u001B[38;5;21;01mthreads\u001B[39;00m \u001B[38;5;28;01mimport\u001B[39;00m (\n\u001B[0;32m     12\u001B[0m     Threads,\n\u001B[0;32m     13\u001B[0m     AsyncThreads,\n\u001B[1;32m   (...)\u001B[0m\n\u001B[0;32m     17\u001B[0m     AsyncThreadsWithStreamingResponse,\n\u001B[0;32m     18\u001B[0m )\n\u001B[0;32m     19\u001B[0m \u001B[38;5;28;01mfrom\u001B[39;00m \u001B[38;5;21;01m.\u001B[39;00m\u001B[38;5;21;01massistants\u001B[39;00m \u001B[38;5;28;01mimport\u001B[39;00m (\n\u001B[0;32m     20\u001B[0m     Assistants,\n\u001B[0;32m     21\u001B[0m     AsyncAssistants,\n\u001B[1;32m   (...)\u001B[0m\n\u001B[0;32m     25\u001B[0m     AsyncAssistantsWithStreamingResponse,\n\u001B[0;32m     26\u001B[0m )\n",
      "File \u001B[1;32m~\\anaconda3\\Lib\\site-packages\\openai\\resources\\beta\\beta.py:5\u001B[0m\n\u001B[0;32m      1\u001B[0m \u001B[38;5;66;03m# File generated from our OpenAPI spec by Stainless. See CONTRIBUTING.md for details.\u001B[39;00m\n\u001B[0;32m      3\u001B[0m \u001B[38;5;28;01mfrom\u001B[39;00m \u001B[38;5;21;01m__future__\u001B[39;00m \u001B[38;5;28;01mimport\u001B[39;00m annotations\n\u001B[1;32m----> 5\u001B[0m \u001B[38;5;28;01mfrom\u001B[39;00m \u001B[38;5;21;01m.\u001B[39;00m\u001B[38;5;21;01mthreads\u001B[39;00m \u001B[38;5;28;01mimport\u001B[39;00m (\n\u001B[0;32m      6\u001B[0m     Threads,\n\u001B[0;32m      7\u001B[0m     AsyncThreads,\n\u001B[0;32m      8\u001B[0m     ThreadsWithRawResponse,\n\u001B[0;32m      9\u001B[0m     AsyncThreadsWithRawResponse,\n\u001B[0;32m     10\u001B[0m     ThreadsWithStreamingResponse,\n\u001B[0;32m     11\u001B[0m     AsyncThreadsWithStreamingResponse,\n\u001B[0;32m     12\u001B[0m )\n\u001B[0;32m     13\u001B[0m \u001B[38;5;28;01mfrom\u001B[39;00m \u001B[38;5;21;01m.\u001B[39;00m\u001B[38;5;21;01m.\u001B[39;00m\u001B[38;5;21;01m.\u001B[39;00m\u001B[38;5;21;01m_compat\u001B[39;00m \u001B[38;5;28;01mimport\u001B[39;00m cached_property\n\u001B[0;32m     14\u001B[0m \u001B[38;5;28;01mfrom\u001B[39;00m \u001B[38;5;21;01m.\u001B[39;00m\u001B[38;5;21;01massistants\u001B[39;00m \u001B[38;5;28;01mimport\u001B[39;00m (\n\u001B[0;32m     15\u001B[0m     Assistants,\n\u001B[0;32m     16\u001B[0m     AsyncAssistants,\n\u001B[1;32m   (...)\u001B[0m\n\u001B[0;32m     20\u001B[0m     AsyncAssistantsWithStreamingResponse,\n\u001B[0;32m     21\u001B[0m )\n",
      "File \u001B[1;32m~\\anaconda3\\Lib\\site-packages\\openai\\resources\\beta\\threads\\__init__.py:3\u001B[0m\n\u001B[0;32m      1\u001B[0m \u001B[38;5;66;03m# File generated from our OpenAPI spec by Stainless. See CONTRIBUTING.md for details.\u001B[39;00m\n\u001B[1;32m----> 3\u001B[0m \u001B[38;5;28;01mfrom\u001B[39;00m \u001B[38;5;21;01m.\u001B[39;00m\u001B[38;5;21;01mruns\u001B[39;00m \u001B[38;5;28;01mimport\u001B[39;00m (\n\u001B[0;32m      4\u001B[0m     Runs,\n\u001B[0;32m      5\u001B[0m     AsyncRuns,\n\u001B[0;32m      6\u001B[0m     RunsWithRawResponse,\n\u001B[0;32m      7\u001B[0m     AsyncRunsWithRawResponse,\n\u001B[0;32m      8\u001B[0m     RunsWithStreamingResponse,\n\u001B[0;32m      9\u001B[0m     AsyncRunsWithStreamingResponse,\n\u001B[0;32m     10\u001B[0m )\n\u001B[0;32m     11\u001B[0m \u001B[38;5;28;01mfrom\u001B[39;00m \u001B[38;5;21;01m.\u001B[39;00m\u001B[38;5;21;01mthreads\u001B[39;00m \u001B[38;5;28;01mimport\u001B[39;00m (\n\u001B[0;32m     12\u001B[0m     Threads,\n\u001B[0;32m     13\u001B[0m     AsyncThreads,\n\u001B[1;32m   (...)\u001B[0m\n\u001B[0;32m     17\u001B[0m     AsyncThreadsWithStreamingResponse,\n\u001B[0;32m     18\u001B[0m )\n\u001B[0;32m     19\u001B[0m \u001B[38;5;28;01mfrom\u001B[39;00m \u001B[38;5;21;01m.\u001B[39;00m\u001B[38;5;21;01mmessages\u001B[39;00m \u001B[38;5;28;01mimport\u001B[39;00m (\n\u001B[0;32m     20\u001B[0m     Messages,\n\u001B[0;32m     21\u001B[0m     AsyncMessages,\n\u001B[1;32m   (...)\u001B[0m\n\u001B[0;32m     25\u001B[0m     AsyncMessagesWithStreamingResponse,\n\u001B[0;32m     26\u001B[0m )\n",
      "File \u001B[1;32m~\\anaconda3\\Lib\\site-packages\\openai\\resources\\beta\\threads\\runs\\__init__.py:3\u001B[0m\n\u001B[0;32m      1\u001B[0m \u001B[38;5;66;03m# File generated from our OpenAPI spec by Stainless. See CONTRIBUTING.md for details.\u001B[39;00m\n\u001B[1;32m----> 3\u001B[0m \u001B[38;5;28;01mfrom\u001B[39;00m \u001B[38;5;21;01m.\u001B[39;00m\u001B[38;5;21;01mruns\u001B[39;00m \u001B[38;5;28;01mimport\u001B[39;00m (\n\u001B[0;32m      4\u001B[0m     Runs,\n\u001B[0;32m      5\u001B[0m     AsyncRuns,\n\u001B[0;32m      6\u001B[0m     RunsWithRawResponse,\n\u001B[0;32m      7\u001B[0m     AsyncRunsWithRawResponse,\n\u001B[0;32m      8\u001B[0m     RunsWithStreamingResponse,\n\u001B[0;32m      9\u001B[0m     AsyncRunsWithStreamingResponse,\n\u001B[0;32m     10\u001B[0m )\n\u001B[0;32m     11\u001B[0m \u001B[38;5;28;01mfrom\u001B[39;00m \u001B[38;5;21;01m.\u001B[39;00m\u001B[38;5;21;01msteps\u001B[39;00m \u001B[38;5;28;01mimport\u001B[39;00m (\n\u001B[0;32m     12\u001B[0m     Steps,\n\u001B[0;32m     13\u001B[0m     AsyncSteps,\n\u001B[1;32m   (...)\u001B[0m\n\u001B[0;32m     17\u001B[0m     AsyncStepsWithStreamingResponse,\n\u001B[0;32m     18\u001B[0m )\n\u001B[0;32m     20\u001B[0m __all__ \u001B[38;5;241m=\u001B[39m [\n\u001B[0;32m     21\u001B[0m     \u001B[38;5;124m\"\u001B[39m\u001B[38;5;124mSteps\u001B[39m\u001B[38;5;124m\"\u001B[39m,\n\u001B[0;32m     22\u001B[0m     \u001B[38;5;124m\"\u001B[39m\u001B[38;5;124mAsyncSteps\u001B[39m\u001B[38;5;124m\"\u001B[39m,\n\u001B[1;32m   (...)\u001B[0m\n\u001B[0;32m     32\u001B[0m     \u001B[38;5;124m\"\u001B[39m\u001B[38;5;124mAsyncRunsWithStreamingResponse\u001B[39m\u001B[38;5;124m\"\u001B[39m,\n\u001B[0;32m     33\u001B[0m ]\n",
      "File \u001B[1;32m~\\anaconda3\\Lib\\site-packages\\openai\\resources\\beta\\threads\\runs\\runs.py:34\u001B[0m\n\u001B[0;32m     31\u001B[0m \u001B[38;5;28;01mfrom\u001B[39;00m \u001B[38;5;21;01m.\u001B[39;00m\u001B[38;5;21;01m.\u001B[39;00m\u001B[38;5;21;01m.\u001B[39;00m\u001B[38;5;21;01m.\u001B[39;00m\u001B[38;5;21;01m.\u001B[39;00m\u001B[38;5;21;01m_streaming\u001B[39;00m \u001B[38;5;28;01mimport\u001B[39;00m Stream, AsyncStream\n\u001B[0;32m     32\u001B[0m \u001B[38;5;28;01mfrom\u001B[39;00m \u001B[38;5;21;01m.\u001B[39;00m\u001B[38;5;21;01m.\u001B[39;00m\u001B[38;5;21;01m.\u001B[39;00m\u001B[38;5;21;01m.\u001B[39;00m\u001B[38;5;21;01m.\u001B[39;00m\u001B[38;5;21;01mpagination\u001B[39;00m \u001B[38;5;28;01mimport\u001B[39;00m SyncCursorPage, AsyncCursorPage\n\u001B[0;32m     33\u001B[0m \u001B[38;5;28;01mfrom\u001B[39;00m \u001B[38;5;21;01m.\u001B[39;00m\u001B[38;5;21;01m.\u001B[39;00m\u001B[38;5;21;01m.\u001B[39;00m\u001B[38;5;21;01m.\u001B[39;00m\u001B[38;5;21;01m.\u001B[39;00m\u001B[38;5;21;01m_base_client\u001B[39;00m \u001B[38;5;28;01mimport\u001B[39;00m (\n\u001B[1;32m---> 34\u001B[0m     AsyncPaginator,\n\u001B[0;32m     35\u001B[0m     make_request_options,\n\u001B[0;32m     36\u001B[0m )\n\u001B[0;32m     37\u001B[0m \u001B[38;5;28;01mfrom\u001B[39;00m \u001B[38;5;21;01m.\u001B[39;00m\u001B[38;5;21;01m.\u001B[39;00m\u001B[38;5;21;01m.\u001B[39;00m\u001B[38;5;21;01m.\u001B[39;00m\u001B[38;5;21;01m.\u001B[39;00m\u001B[38;5;21;01mlib\u001B[39;00m\u001B[38;5;21;01m.\u001B[39;00m\u001B[38;5;21;01mstreaming\u001B[39;00m \u001B[38;5;28;01mimport\u001B[39;00m (\n\u001B[0;32m     38\u001B[0m     AssistantEventHandler,\n\u001B[0;32m     39\u001B[0m     AssistantEventHandlerT,\n\u001B[1;32m   (...)\u001B[0m\n\u001B[0;32m     43\u001B[0m     AsyncAssistantStreamManager,\n\u001B[0;32m     44\u001B[0m )\n\u001B[0;32m     45\u001B[0m \u001B[38;5;28;01mfrom\u001B[39;00m \u001B[38;5;21;01m.\u001B[39;00m\u001B[38;5;21;01m.\u001B[39;00m\u001B[38;5;21;01m.\u001B[39;00m\u001B[38;5;21;01m.\u001B[39;00m\u001B[38;5;21;01m.\u001B[39;00m\u001B[38;5;21;01mtypes\u001B[39;00m\u001B[38;5;21;01m.\u001B[39;00m\u001B[38;5;21;01mbeta\u001B[39;00m\u001B[38;5;21;01m.\u001B[39;00m\u001B[38;5;21;01mthreads\u001B[39;00m \u001B[38;5;28;01mimport\u001B[39;00m (\n\u001B[0;32m     46\u001B[0m     run_list_params,\n\u001B[0;32m     47\u001B[0m     run_create_params,\n\u001B[0;32m     48\u001B[0m     run_update_params,\n\u001B[0;32m     49\u001B[0m     run_submit_tool_outputs_params,\n\u001B[0;32m     50\u001B[0m )\n",
      "File \u001B[1;32m~\\anaconda3\\Lib\\site-packages\\openai\\lib\\__init__.py:1\u001B[0m\n\u001B[1;32m----> 1\u001B[0m \u001B[38;5;28;01mfrom\u001B[39;00m \u001B[38;5;21;01m.\u001B[39;00m\u001B[38;5;21;01m_tools\u001B[39;00m \u001B[38;5;28;01mimport\u001B[39;00m pydantic_function_tool \u001B[38;5;28;01mas\u001B[39;00m pydantic_function_tool\n\u001B[0;32m      2\u001B[0m \u001B[38;5;28;01mfrom\u001B[39;00m \u001B[38;5;21;01m.\u001B[39;00m\u001B[38;5;21;01m_parsing\u001B[39;00m \u001B[38;5;28;01mimport\u001B[39;00m ResponseFormatT \u001B[38;5;28;01mas\u001B[39;00m ResponseFormatT\n",
      "File \u001B[1;32m~\\anaconda3\\Lib\\site-packages\\openai\\lib\\_tools.py:7\u001B[0m\n\u001B[0;32m      3\u001B[0m \u001B[38;5;28;01mfrom\u001B[39;00m \u001B[38;5;21;01mtyping\u001B[39;00m \u001B[38;5;28;01mimport\u001B[39;00m Any, Dict, cast\n\u001B[0;32m      5\u001B[0m \u001B[38;5;28;01mimport\u001B[39;00m \u001B[38;5;21;01mpydantic\u001B[39;00m\n\u001B[1;32m----> 7\u001B[0m \u001B[38;5;28;01mfrom\u001B[39;00m \u001B[38;5;21;01m.\u001B[39;00m\u001B[38;5;21;01m_pydantic\u001B[39;00m \u001B[38;5;28;01mimport\u001B[39;00m to_strict_json_schema\n\u001B[0;32m      8\u001B[0m \u001B[38;5;28;01mfrom\u001B[39;00m \u001B[38;5;21;01m.\u001B[39;00m\u001B[38;5;21;01m.\u001B[39;00m\u001B[38;5;21;01mtypes\u001B[39;00m\u001B[38;5;21;01m.\u001B[39;00m\u001B[38;5;21;01mchat\u001B[39;00m \u001B[38;5;28;01mimport\u001B[39;00m ChatCompletionToolParam\n\u001B[0;32m      9\u001B[0m \u001B[38;5;28;01mfrom\u001B[39;00m \u001B[38;5;21;01m.\u001B[39;00m\u001B[38;5;21;01m.\u001B[39;00m\u001B[38;5;21;01mtypes\u001B[39;00m\u001B[38;5;21;01m.\u001B[39;00m\u001B[38;5;21;01mshared_params\u001B[39;00m \u001B[38;5;28;01mimport\u001B[39;00m FunctionDefinition\n",
      "File \u001B[1;32m~\\anaconda3\\Lib\\site-packages\\openai\\lib\\_pydantic.py:11\u001B[0m\n\u001B[0;32m      9\u001B[0m \u001B[38;5;28;01mfrom\u001B[39;00m \u001B[38;5;21;01m.\u001B[39;00m\u001B[38;5;21;01m.\u001B[39;00m\u001B[38;5;21;01m_types\u001B[39;00m \u001B[38;5;28;01mimport\u001B[39;00m NOT_GIVEN\n\u001B[0;32m     10\u001B[0m \u001B[38;5;28;01mfrom\u001B[39;00m \u001B[38;5;21;01m.\u001B[39;00m\u001B[38;5;21;01m.\u001B[39;00m\u001B[38;5;21;01m_utils\u001B[39;00m \u001B[38;5;28;01mimport\u001B[39;00m is_dict \u001B[38;5;28;01mas\u001B[39;00m _is_dict, is_list\n\u001B[1;32m---> 11\u001B[0m \u001B[38;5;28;01mfrom\u001B[39;00m \u001B[38;5;21;01m.\u001B[39;00m\u001B[38;5;21;01m.\u001B[39;00m\u001B[38;5;21;01m_compat\u001B[39;00m \u001B[38;5;28;01mimport\u001B[39;00m PYDANTIC_V2, model_json_schema\n\u001B[0;32m     13\u001B[0m _T \u001B[38;5;241m=\u001B[39m TypeVar(\u001B[38;5;124m\"\u001B[39m\u001B[38;5;124m_T\u001B[39m\u001B[38;5;124m\"\u001B[39m)\n\u001B[0;32m     16\u001B[0m \u001B[38;5;28;01mdef\u001B[39;00m \u001B[38;5;21mto_strict_json_schema\u001B[39m(model: \u001B[38;5;28mtype\u001B[39m[pydantic\u001B[38;5;241m.\u001B[39mBaseModel] \u001B[38;5;241m|\u001B[39m pydantic\u001B[38;5;241m.\u001B[39mTypeAdapter[Any]) \u001B[38;5;241m-\u001B[39m\u001B[38;5;241m>\u001B[39m \u001B[38;5;28mdict\u001B[39m[\u001B[38;5;28mstr\u001B[39m, Any]:\n",
      "\u001B[1;31mImportError\u001B[0m: cannot import name 'model_json_schema' from 'openai._compat' (C:\\Users\\Anwender\\anaconda3\\Lib\\site-packages\\openai\\_compat.py)"
     ]
    }
   ],
   "execution_count": 7
  },
  {
   "metadata": {
    "ExecuteTime": {
     "end_time": "2024-10-29T16:12:59.016414Z",
     "start_time": "2024-10-29T16:12:58.324577Z"
    }
   },
   "cell_type": "code",
   "source": "%pip install ollama",
   "id": "7ca5a2b8c7301944",
   "outputs": [
    {
     "name": "stdout",
     "output_type": "stream",
     "text": [
      "Collecting ollama\r\n",
      "  Downloading ollama-0.3.3-py3-none-any.whl.metadata (3.8 kB)\r\n",
      "Requirement already satisfied: httpx<0.28.0,>=0.27.0 in /opt/anaconda3/envs/DataAndKnowledgeEngineering/lib/python3.8/site-packages (from ollama) (0.27.0)\r\n",
      "Requirement already satisfied: anyio in /opt/anaconda3/envs/DataAndKnowledgeEngineering/lib/python3.8/site-packages (from httpx<0.28.0,>=0.27.0->ollama) (4.2.0)\r\n",
      "Requirement already satisfied: certifi in /opt/anaconda3/envs/DataAndKnowledgeEngineering/lib/python3.8/site-packages (from httpx<0.28.0,>=0.27.0->ollama) (2024.8.30)\r\n",
      "Requirement already satisfied: httpcore==1.* in /opt/anaconda3/envs/DataAndKnowledgeEngineering/lib/python3.8/site-packages (from httpx<0.28.0,>=0.27.0->ollama) (1.0.2)\r\n",
      "Requirement already satisfied: idna in /opt/anaconda3/envs/DataAndKnowledgeEngineering/lib/python3.8/site-packages (from httpx<0.28.0,>=0.27.0->ollama) (3.7)\r\n",
      "Requirement already satisfied: sniffio in /opt/anaconda3/envs/DataAndKnowledgeEngineering/lib/python3.8/site-packages (from httpx<0.28.0,>=0.27.0->ollama) (1.3.0)\r\n",
      "Requirement already satisfied: h11<0.15,>=0.13 in /opt/anaconda3/envs/DataAndKnowledgeEngineering/lib/python3.8/site-packages (from httpcore==1.*->httpx<0.28.0,>=0.27.0->ollama) (0.14.0)\r\n",
      "Requirement already satisfied: exceptiongroup>=1.0.2 in /opt/anaconda3/envs/DataAndKnowledgeEngineering/lib/python3.8/site-packages (from anyio->httpx<0.28.0,>=0.27.0->ollama) (1.2.0)\r\n",
      "Requirement already satisfied: typing-extensions>=4.1 in /opt/anaconda3/envs/DataAndKnowledgeEngineering/lib/python3.8/site-packages (from anyio->httpx<0.28.0,>=0.27.0->ollama) (4.11.0)\r\n",
      "Downloading ollama-0.3.3-py3-none-any.whl (10 kB)\r\n",
      "Installing collected packages: ollama\r\n",
      "Successfully installed ollama-0.3.3\r\n",
      "Note: you may need to restart the kernel to use updated packages.\n"
     ]
    }
   ],
   "execution_count": 1
  },
  {
   "metadata": {
    "ExecuteTime": {
     "end_time": "2024-10-29T16:26:51.788326Z",
     "start_time": "2024-10-29T16:26:48.009294Z"
    }
   },
   "cell_type": "code",
   "source": [
    "import ollama\n",
    "\n",
    "response = ollama.chat(\n",
    "    model=\"llama3.2\",\n",
    "    messages=[\n",
    "        {\n",
    "            \"role\": \"user\",\n",
    "            \"content\": \"Tell me an interesting fact about elephants\",\n",
    "        },\n",
    "    ],\n",
    ")\n",
    "print(response[\"message\"][\"content\"])"
   ],
   "id": "64de44d737780c13",
   "outputs": [
    {
     "name": "stdout",
     "output_type": "stream",
     "text": [
      "Here's a fascinating fact about elephants:\n",
      "\n",
      "Elephants have a highly developed sense of empathy and can recognize and respond to the emotions of others. In fact, they are considered one of the most empathetic animals on Earth.\n",
      "\n",
      "Studies have shown that when an elephant experiences stress or distress, its family members will often gather around it and provide support and comfort. They may even touch each other with their trunks in a gentle, reassuring manner.\n",
      "\n",
      "This empathy is thought to be linked to the large size and complexity of an elephant's brain, which contains a high concentration of neurons that are dedicated to emotional processing. It's believed that this advanced emotional intelligence allows elephants to pick up on subtle social cues and respond with compassion and care.\n",
      "\n",
      "Isn't that amazing?\n"
     ]
    }
   ],
   "execution_count": 2
  },
  {
   "metadata": {
    "ExecuteTime": {
     "end_time": "2024-11-19T17:58:13.455918Z",
     "start_time": "2024-11-19T17:56:24.363449Z"
    }
   },
   "cell_type": "code",
   "source": [
    "import ollama\n",
    "from PyPDF2 import PdfReader\n",
    "\n",
    "# Function to read the content of a PDF document\n",
    "def read_pdf(file_path):\n",
    "    reader = PdfReader(file_path)\n",
    "    text = \"\"\n",
    "    for page in reader.pages:\n",
    "        text += page.extract_text() + \"\\n\"\n",
    "    return text\n",
    "\n",
    "# Replace this with the path to your PDF document\n",
    "file_path = \"resources/business_rules_document.pdf\"\n",
    "\n",
    "# Read the content of the PDF document\n",
    "document_content = read_pdf(file_path)\n",
    "\n",
    "# Create the Ollama API request\n",
    "response = ollama.chat(\n",
    "    model=\"llama3.2\",\n",
    "    messages=[\n",
    "        {\n",
    "            \"role\": \"user\",\n",
    "            \"content\": f\"I have the following document: {document_content}\\n\\n extract all the business rules from this document. Present them clearly in a bullet-point format.\"\n",
    "        },\n",
    "    ],\n",
    ")\n",
    "\n",
    "# Extract and print the response\n",
    "print(response[\"message\"][\"content\"])\n"
   ],
   "id": "670c08e96921729c",
   "outputs": [
    {
     "name": "stdout",
     "output_type": "stream",
     "text": [
      "Here are the extracted business rules from the document:\n",
      "\n",
      "• **Authentication**: Customers must provide valid identification before opening an account.\n",
      "\n",
      "• **Transaction reporting**: All transactions above $10,000 must be reported to the compliance department.\n",
      "\n",
      "• **Credit application screening**: Loan applications can only be processed if the applicant has a credit score of 650 or above.\n",
      "\n",
      "• **Expense report approval process**: Employees are not allowed to approve their own expense reports.\n",
      "\n",
      "• **Refund policy**: Refunds are only issued if the request is made within 30 days of the purchase date.\n",
      "\n",
      "• **Discount approval**: A manager must approve any discount greater than 20%.\n",
      "\n",
      "• **Terms and conditions compliance**: Customers must agree to the terms and conditions before using the service.\n",
      "\n",
      "• **Data protection**: All customer data must be encrypted when stored or transmitted.\n",
      "\n",
      "• **Vendor approval process**: Vendors must be vetted and approved by the procurement team before any contracts are signed.\n",
      "\n",
      "• **Inventory management**: Inventory checks must be conducted at the end of each month.\n"
     ]
    }
   ],
   "execution_count": 6
  },
  {
   "metadata": {
    "ExecuteTime": {
     "end_time": "2024-11-19T21:35:34.812690Z",
     "start_time": "2024-11-19T21:16:00.612280Z"
    }
   },
   "cell_type": "code",
   "source": [
    "import ollama\n",
    "from PyPDF2 import PdfReader\n",
    "\n",
    "# Initialize Ollama model if needed\n",
    "# ollama.initialize_model(\"ollama-legal-extraction\")\n",
    "\n",
    "def read_pdf(file_path):\n",
    "    \"\"\"\n",
    "    Reads a PDF file and extracts its text.\n",
    "    \"\"\"\n",
    "    reader = PdfReader(file_path)\n",
    "    text = \"\"\n",
    "    for page in reader.pages:\n",
    "        text += page.extract_text() + \"\\n\"\n",
    "    return text\n",
    "\n",
    "def segment_text(text):\n",
    "    \"\"\"\n",
    "    Segments the provided text into meaningful sections using Ollama.\n",
    "    \"\"\"\n",
    "    segments_response = ollama.chat(\n",
    "        model=\"llama3.2\",\n",
    "        messages=[\n",
    "            {\n",
    "                \"role\": \"user\",\n",
    "                \"content\": f\"Please divide the provided text into meaningful sections based on content and context. Use the '#' symbol to separate each section. Focus on identifying distinct topics, legal clauses, or thematic shifts to ensure each segment is coherent and self-contained: {text}\"\n",
    "            },\n",
    "        ],\n",
    "    )\n",
    "    return segments_response[\"message\"][\"content\"].split(\"#\")\n",
    "\n",
    "def extract_rules(segment):\n",
    "    \"\"\"\n",
    "    Extracts legal or business rules from a single text segment using Ollama.\n",
    "    \"\"\"\n",
    "    prompt = f\"From the following text segment, extract all explicit and implicit legal or business rules. Present each rule clearly and concisely, ensuring it is self-contained. If applicable, format the rules as a numbered list and include any conditions or exceptions associated with each rule: {segment}\"\n",
    "    response = ollama.chat(\n",
    "        model=\"llama3.2\",\n",
    "        messages=[\n",
    "            {\n",
    "                \"role\": \"user\",\n",
    "                \"content\": prompt\n",
    "            },\n",
    "        ],\n",
    "    )\n",
    "    return response[\"message\"][\"content\"]\n",
    "\n",
    "def extract_rules_from_text(text):\n",
    "    \"\"\"\n",
    "    Extracts legal or business rules from the entire text by processing each segment.\n",
    "    \"\"\"\n",
    "    segments = segment_text(text)\n",
    "    extracted_rules = [extract_rules(segment) for segment in segments]\n",
    "    return extracted_rules\n",
    "\n",
    "def convert_rule_to_prolog(rule):\n",
    "    \"\"\"\n",
    "    Converts a single rule to Prolog format using Ollama.\n",
    "    \"\"\"\n",
    "    prompt = f\"Convert this rule to Prolog: {rule}\"\n",
    "    response = ollama.chat(\n",
    "        model=\"llama3.2\",\n",
    "        messages=[\n",
    "            {\n",
    "                \"role\": \"user\",\n",
    "                \"content\": prompt\n",
    "            },\n",
    "        ],\n",
    "    )\n",
    "    return response[\"message\"][\"content\"]\n",
    "\n",
    "def convert_rules_to_prolog(logical_rules):\n",
    "    \"\"\"\n",
    "    Converts a list of logical rules to Prolog format.\n",
    "    \"\"\"\n",
    "    return [convert_rule_to_prolog(rule) for rule in logical_rules]\n",
    "\n",
    "def consolidate_prolog_rules(prolog_rules):\n",
    "    \"\"\"\n",
    "    Consolidates Prolog rules into a single string and processes them if needed.\n",
    "    \"\"\"\n",
    "    prolog_rules_string = \"\\n\".join(prolog_rules)\n",
    "    output = ollama.chat(\n",
    "        model=\"llama3.2\",\n",
    "        messages=[\n",
    "            {\n",
    "                \"role\": \"user\",\n",
    "                \"content\": f\"Just return prolog rules in this text, don't simplify: {prolog_rules_string}\"\n",
    "            },\n",
    "        ],\n",
    "    )\n",
    "    return output[\"message\"][\"content\"]\n",
    "\n",
    "file_path = \"resources/business_rules_document.pdf\"\n",
    "\n",
    "# Step 1: Read the content of the PDF document\n",
    "legal_text = read_pdf(file_path)\n",
    "\n",
    "# Step 2: Extract rules from the text\n",
    "rules = extract_rules_from_text(legal_text)\n",
    "\n",
    "# Step 3: Convert rules to Prolog format\n",
    "prolog_rules = convert_rules_to_prolog(rules)\n",
    "\n",
    "# Step 4: Consolidate and process Prolog rules\n",
    "final_prolog_output = consolidate_prolog_rules(prolog_rules)\n",
    "\n",
    "# Output the Prolog rules\n",
    "print(final_prolog_output)\n",
    "\n",
    "\n",
    "\n"
   ],
   "id": "3153f6e4491d43fc",
   "outputs": [
    {
     "name": "stdout",
     "output_type": "stream",
     "text": [
      "Here is the Prolog representation of the rules for the company's financial management system:\n",
      "\n",
      "```prolog\n",
      "% Rule: All transactions must be authorized by a manager before being recorded in the system.\n",
      "transaction_authorization_rule :-\n",
      "    TransactionAmount > 0,\n",
      "    ManagerApproved =/= no.\n",
      "\n",
      "% Define the exception for this rule (none stated)\n",
      "exception(transaction_authorization_rule, none).\n",
      "\n",
      "% Define the purpose of this rule\n",
      "purpose(transaction_authorization_rule, `companyFinancialRules`, `conformityCheckAndReportRules`).\n",
      "```\n",
      "\n",
      "Here is a possible Prolog representation of the rules:\n",
      "\n",
      "```prolog\n",
      "% Rule: All transactions must be above $10kveting approval.\n",
      "transaction_above_10k :-\n",
      "    TransactionAmount > 10,\n",
      "     true.\n",
      "\n",
      "vendor_vetting_approval :-\n",
      "    % Only managers can approve_transactions :-\n",
      "    ManagerApproved(is_manager,Manager approved only to have an ID before they are able to use the procurement process starts.\n",
      "```\n",
      "\n",
      "Here is a possible Prolog representation of the following company policy rule:\n",
      "\n",
      "```prolog\n",
      "% Rule: All transactions must be authorized by manager before being recorded in the system.\n",
      "% This rule only is Authority.\n",
      "\n",
      "% Purpose: To ensure all transactions are compliant_withVendorRules :-\n",
      "    % Only approved vendors can sign agreements, contractNegotiationWithFinalAuthorizationRule. By defining manager role authorization\n",
      "seniorManagementAuthorization :-\n",
      "    ManagerRole senior management roles,\n",
      "    true.\n",
      "\n",
      "\n",
      "\n",
      "```\n"
     ]
    }
   ],
   "execution_count": 13
  },
  {
   "metadata": {
    "ExecuteTime": {
     "end_time": "2024-11-19T21:46:38.186700Z",
     "start_time": "2024-11-19T21:45:23.269749Z"
    }
   },
   "cell_type": "code",
   "source": [
    "#show the segments\n",
    "segments = segment_text(legal_text)\n",
    "segments"
   ],
   "id": "ca49f0d0ee0b327f",
   "outputs": [
    {
     "data": {
      "text/plain": [
       "['',\n",
       " ' Business Operations\\n\\n1. Customers must provide valid identification before opening an account.\\n2. Loan applications can only be processed if the applicant has a credit score of 650 or above.\\n3. Employees are not allowed to approve their own expense reports.\\n4. Vendors must be vetted and approved by the procurement team before any contracts are signed.\\n\\n',\n",
       " ' Compliance and Reporting\\n\\n1. All transactions above $10,000 must be reported to the compliance department.\\n2. Refunds are only issued if the request is made within 30 days of the purchase date.\\n3. A manager must approve any discount greater than 20%.\\n\\n',\n",
       " ' Security and Data Protection\\n\\n1. Customers must agree to the terms and conditions before using the service.\\n2. All customer data must be encrypted when stored or transmitted.\\n\\n',\n",
       " ' Administrative Procedures\\n\\n1. Inventory checks must be conducted at the end of each month.\\n\\n',\n",
       " ' ',\n",
       " 'Thematic Shift: Employee Oversight\\n\\nThe section on \"Compliance and Reporting\" can be further divided, as there is a clear distinction between reporting requirements for transactions above $10,000 and the procedure for issuing refunds.\\n\\nRevised Section:\\n ',\n",
       " ' Compliance and Reporting\\n1. All transactions above $10,000 must be reported to the compliance department.\\n2. Refunds are only issued if the request is made within 30 days of the purchase date.\\n3. A manager must approve any discount greater than 20%.\\n4. (Removed \"Employees are not allowed to approve their own expense reports\" as it doesn\\'t fit in this category)\\n\\nThe revised Business Operations section would include:\\n \\n1. Customers must provide valid identification before opening an account.\\n2. Loan applications can only be processed if the applicant has a credit score of 650 or above.\\n3. Employees are not allowed to approve their own expense reports.\\n4. Vendors must be vetted and approved by the procurement team before any contracts are signed.\\n\\nThe revised Business Operations section would then be split into two sub-sections:\\n\\n ',\n",
       " ' Business Operations\\n1. Customers must provide valid identification before opening an account.\\n2. Loan applications can only be processed if the applicant has a credit score of 650 or above.\\n3. Vendors must be vetted and approved by the procurement team before any contracts are signed.\\n\\n',\n",
       " ' Employee Oversight\\n\\n1. Employees are not allowed to approve their own expense reports.\\n\\nThis would provide a clear distinction between business operations that require employee oversight and those that do not.']"
      ]
     },
     "execution_count": 22,
     "metadata": {},
     "output_type": "execute_result"
    }
   ],
   "execution_count": 22
  },
  {
   "metadata": {
    "ExecuteTime": {
     "end_time": "2024-11-19T22:09:34.229510Z",
     "start_time": "2024-11-19T22:09:34.214070Z"
    }
   },
   "cell_type": "code",
   "source": "rules",
   "id": "40479d514d524994",
   "outputs": [
    {
     "data": {
      "text/plain": [
       "[\"I'm happy to help you with your request. However, I don't see a text segment provided. Please provide the text segment you'd like me to extract rules from, and I'll be happy to assist you in extracting explicit and implicit legal or business rules.\\n\\nOnce you provide the text, I'll format the extracted rules as a numbered list, including conditions or exceptions where applicable.\",\n",
       " \"Here are the extracted explicit and implicit legal and business rules:\\n\\n1. **Valid Identification Requirement**\\nCondition: The customer must be at least [insert age, e.g., 18] years old.\\nException: This rule may not apply to customers who provide government-issued identification that verifies their age.\\n\\n2. **Terms and Conditions Agreement**\\nCondition: The customer must agree to the terms and conditions before using the service.\\nNote: The terms and conditions may include additional requirements, such as:\\n* The customer acknowledges that they have read and understood the terms and conditions.\\n* The customer agrees to comply with all applicable laws and regulations.\\n\\n3. **Account Opening Procedure**\\nCondition: The customer must provide valid identification during account opening.\\nException: This rule may not apply if the customer is exempt from providing identification due to a disability or other protected status.\\n\\n4. **Service Usage Requirements**\\nCondition: The customer must agree to the terms and conditions before using the service.\\nNote: The terms and conditions may also include requirements such as:\\n* The customer acknowledges that they will use the service for lawful purposes only.\\n* The customer agrees not to share their login credentials with anyone else.\\n\\n5. **Age Verification**\\nCondition: The business is required to verify the customer's age before allowing them to open an account or use the service.\\nNote: This rule may vary depending on the jurisdiction and applicable laws, such as the Children's Online Privacy Protection Act (COPPA) in the United States.\",\n",
       " 'Here are the extracted rules:\\n\\n**Rule 1:** Report all transactions above $10,000 to the compliance department.\\n\\n* Condition: The transaction amount must exceed $10,000.\\n* Exception: None specified.\\n\\n**Rule 2:** Refunds can only be issued within 30 days of the purchase date.\\n\\n* Condition: The request for a refund must be made within 30 days of the original purchase date.\\n* Exception: None specified.',\n",
       " \"Here are the explicit and implicit legal or business rules extracted from the text segment:\\n\\n1. **Minimum Credit Score for Loan Applications**\\n\\t* Condition: The applicant's credit score must be 650 or above.\\n\\t* Exception: None stated.\\n\\t* Purpose: To ensure that only qualified individuals can apply for loans.\\n\\n2. **Restriction on Employee Expense Report Approval**\\n\\t* Condition: Employees cannot approve their own expense reports.\\n\\t* Exception: None stated.\\n\\t* Purpose: To prevent employees from benefiting financially by approving their own expenses.\\n\\nNote: There are no other explicit or implicit legal or business rules mentioned in the text segment.\",\n",
       " \"Here are the extracted explicit and implicit legal or business rules:\\n\\n1. **Discount Approval Policy**\\n\\t* Conditions: Any discount greater than 20% must be approved by a manager.\\n\\t* Exception: No specific exception is mentioned, implying that all discounts above 20% will require managerial approval.\\n\\n2. **Pricing and Discount Limits**\\n\\t* There is no explicit limit mentioned in the text, but it implies that there may be implicit limits or restrictions on pricing and discounts not covered by this policy.\\n\\n3. **Approval Process**\\n\\t* Conditions: Approval of discounts greater than 20% must involve a manager.\\n\\t* Exception: No specific exception is mentioned, implying that managerial approval is required for all such discounts.\\n\\n4. **Managerial Discretion**\\n\\t* Conditions: Managers have the discretion to approve or reject discounts above 20%.\\n\\t* Exception: No specific exception is mentioned, implying that managers can use their judgment when making decisions about these discounts.\\n\\nNote that these rules are based on a single text segment and may not be comprehensive or absolute. In practice, additional rules, conditions, or exceptions may apply depending on the organization's policies, industry, or regulatory requirements.\",\n",
       " 'Here are the extracted explicit and implicit legal or business rules:\\n\\n1. **Data Encryption Rule**\\nAll customer data must be encrypted when stored or transmitted.\\n\\nCondition: This rule applies to all customer data, regardless of its type or format.\\n\\n2. **Vendor Vetting and Approval Rule**\\nVendors must be vetted and approved by the procurement team before any contracts are signed.\\n\\nConditions:\\n* This rule only applies to vendors with whom a contract is being negotiated.\\n* The procurement team has final authority over vendor approval decisions.\\n* No exceptions for emergency or urgent situations, unless explicitly authorized by senior management.',\n",
       " 'Here are the explicit and implicit legal or business rules extracted from the text segment:\\n\\n1. **Inventory Check Procedure**\\n\\t* Rule: Inventory checks must be conducted at the end of each month.\\n\\t* Conditions:\\n\\t\\t+ Must be conducted every 30 days (at the end of each month).\\n\\t\\t+ No exceptions specified, but this may vary depending on business needs or circumstances.\\n\\nNote: There are no implicit legal or business rules explicitly mentioned in the text segment. However, it is implied that the company has some level of inventory management and tracking system in place to support this rule.']"
      ]
     },
     "execution_count": 25,
     "metadata": {},
     "output_type": "execute_result"
    }
   ],
   "execution_count": 25
  },
  {
   "metadata": {
    "ExecuteTime": {
     "end_time": "2024-11-19T21:38:46.632290Z",
     "start_time": "2024-11-19T21:38:46.604601Z"
    }
   },
   "cell_type": "code",
   "source": "prolog_rules",
   "id": "ef0ca5f37dc90a12",
   "outputs": [
    {
     "data": {
      "text/plain": [
       "[\"Here is the Prolog representation of the given rule:\\n\\n```prolog\\nhappy_to_help(X) :- happy.\\nhelp_request(X) :- provided.\\nprovide_rules(X) :- \\n    text_segment(is_provided),\\n    explicit_rules(X),\\n    implicit_rules(X).\\nexplicit_rules(X) :- \\n    some_rule.\\nimplicit_rules(X) :- \\n    some_other_rule.\\nprovided.\\ntext_segment(is_provided).\\nhappy.\\n```\\n\\nIn this Prolog representation:\\n\\n- `happy_to_help(X)` is a predicate that takes an argument `X`, and it's true if the given logic says you're happy to help that person (`happy`).\\n- `help_request(X)` is another predicate that takes an argument, and it's true if there is a text segment indicating you want to help (`provided`).\\n- The `provide_rules(X)` predicate takes an argument `X`, and it's true if the given logic says you're happy to provide some rules.\\n- `explicit_rules(X)` and `implicit_rules(X)` are predicates that take an argument, which could potentially extract explicit or implicit rules. However, their implementation is not shown here because they need more context about what kind of rules you want to extract (e.g., from text segments).\\n- The first clause in the rule mentions a text segment (`text_segment(is_provided)`) to verify if we're working with the right data.\\n- `some_rule` and `some_other_rule` are examples of predicates that could potentially be used to extract rules. In reality, they would depend on what kind of rules you want to extract from your input (e.g., regular expressions for text segment patterns).\\n- The final clauses just assert certain conditions (`provided`, `happy`).\",\n",
       " \"Here is a possible Prolog representation of the extracted rules:\\n\\n```prolog\\n% Valid Identification Requirement\\nvalid_id_required(Age, Customer) :- age_verified(Customer, Age).\\nage_verified(Customer, Age) :- government_issued_id(Customer),\\n                             verified_age(Customer, Age).\\n\\nverified_age(Customer, Age) :- Age >= AgeLimits minimum_age,\\n                            verified_status(Customer, 'enabled').\\n\\nAgeLimits minimum_age = 18.\\nverified_status(Customer, Status) :- status_info(Customer, Status).\\nstatus_info(Customer, enabled) :- customer_data(Customer, enabled_status).\\ncustomer_data(Customer, enabled_status) :- customer_info(Customer, enabled_status).\\n\\n% Terms and Conditions Agreement\\nterms_and_conditions_agreed(Customer) :-\\n    agreed_terms(Customer),\\n    read_understood(Customer),\\n    compliant_with_laws(Customer).\\n\\nagreed_terms(Customer) :- terms_info(Customer, agreed_terms).\\nterms_info(Customer, agreed_terms) :- term_data(Customer, agreed_terms).\\n\\nread_understood(Customer) :- understood_info(Customer, 'understood').\\n\\ncompliant_with_laws(Customer) :-\\n    laws_and_regulations(Customer, compliant_status),\\n    law_compliance(Customer, compliant_status).\\n\\nlaws_and_regulations(Customer, Status) :- regulation_info(Customer, Status).\\nregulation_info(Customer, compliant_status) :- regulated_data(Customer, compliant_status).\\n\\nlaw_compliance(Customer, Status) :-\\n    comply_with_laws(Customer, Status),\\n    not_shares_login_credentials(Customer, 'enabled').\\n\\ncomply_with_laws(Customer, enabled) :- CustomerData,\\n                                     comply_with_laws(CustomerData).\\ncomply_with_laws(CustomerData, disabled) :- CustomerData,\\n                                          not_compliant_data(CustomerData).\\n\\nnot_shares_login_credentials(Customer, enabled) :-\\n    shared_info(Customer, 'disabled').\\n\\nshared_info(Customer, enabled) :- login_data(Customer, enabled_status),\\n                               shareable_credentials(Customer, 'enabled').\\n\\nshareable_credentials(Customer, enabled) :- credential_info(Customer, enabled).\\ncredential_info(Customer, enabled) :-\\n    CustomerData,\\n    shareable_data(CustomerData).\\n\\nnot_compliant_data(CustomerData) :-\\n    not_compliant(CustomerData),\\n    not_compliant_info(CustomerData, 'disabled').\\n\\ncompliant_status(Customer) :- compliant(CustomerData, 'enabled').\\ncompliant(CustomerData, disabled) :-\\n    not_compliant(CustomerData),\\n    not_compliant_info(CustomerData, 'disabled').\\n\\nnot_compliant(CustomerData) :-\\n    CustomerData,\\n    not_compliant_value(CustomerData).\\n\\nnot_compliant_value(CustomerData) :-\\n    not_compliant(CustomerInfo, CustomerData).\\n\\nnot_compliant(CustomerInfo, Value) :- not_compliant_key(CustomerInfo, Key),\\n                                      comapred(CustomerInfo, Key, Value).\\ncomapred(CustomerInfo, Key, Value) :-\\n    customer_data(CustomerInfo, Data),\\n    equals(Data, Value),\\n    not_compliant_val(Key, Val),\\n    comapred_val(CustomerInfo, Key, Val).\\n\\nequals(X, Y) :- X =:= Y.\\ncomapred_val(X, Y, Z) :- X =< Z.\\n\\n% Account Opening Procedure\\naccount_opened(Customer) :-\\n    valid_id_required(Customer, Age),\\n    age_verified(Customer, Age),\\n    open_account(Customer, 'enabled').\\n\\nopen_account(Customer, enabled) :-\\n    CustomerData,\\n    open_customer_data(CustomerData).\\n\\n% Service Usage Requirements\\nservice_usage_required(Customer) :-\\n    terms_and_conditions_agreed(Customer),\\n    agree_to_terms(Customer, 'enabled').\\n\\nagree_to_terms(Customer, enabled) :-\\n    CustomerData,\\n    agreed_terms(CustomerData),\\n    read_understood(CustomerData),\\n    compliant_with_laws(CustomerData).\\n\\n% Age Verification\\nage_verification_required(Customer) :-\\n    businessVerifiedAge(Customer, VerifiedAge),\\n    verified_age_limit(Customer, VerifiedAge).\\n    \\nbusinessVerifiedAge(Customer, VerifiedAge) :- \\n    jurisdiction(Customer),\\n    ageVerificationRegulation(Customer),\\n    rule applies(Customer, 'enabled').\\n\\nrule applies(Customer, enabled) :-\\n    CustomerData,\\n    applies_rule(CustomerData).\\n\\nageVerificationRegulation(Customer) :-\\n    verified_age_limit(Customer, 18).\\n\\nverified_age_limit(Customer, AgeLimit) :-\\n    customer_data(Customer, Data),\\n    verified_age_limit(CustomerData, AgeLimit).\\n    \\nverified_age_limit(CustomerData, AgeLimit) :-\\n    status_info(CustomerData, Status),\\n    verified_status(CustomerData, 'enabled'),\\n    verified_aged(CustomerData, AgeLimit).\\n\\nverified_status(CustomerData, enabled) :-\\n    customer_info(CustomerData, Info),\\n    info_data(CustomerData, Data),\\n    data_status(Data, 'enabled').\\n\\nverified_age_limit(CustomerData, AgeLimit) :- \\n    CustomerAge,\\n    verified_age(CustomerData, CustomerAge),\\n    equals(CustomerAge, AgeLimit).\\n\\nverified_age(Customer, Age) :-\\n    age_verified(Customer, Age),\\n    enabled_status(Customer).\\n\\n% Children's Online Privacy Protection Act (COPPA)\\ncoppa_compliant(Customer) :-\\n    jurisdiction(Customer),\\n    coppaRegulation(Customer),\\n    rule applies(Customer, 'enabled').\\n\\ncoppa_regulation(Customer) :-\\n    verified_age_limit(Customer, 13).\\n```\\n\\nThis Prolog representation includes the extracted rules and their conditions. Each rule is represented as a predicate that checks if the condition is met. The conditions are also represented as predicates that check if certain properties are true.\\n\\nPlease note that this is just one possible way to represent these rules in Prolog. Depending on the specific requirements, other representations may be more suitable.\\n\\nAlso, please note that this representation does not include any additional data structures or queries to verify the rules against external data sources (e.g., government-issued ID verification). It simply represents the rules as predicates.\\n\\nYou can use this representation to query the Prolog engine with different inputs and see if the conditions are met. For example:\\n\\n```prolog\\n?- valid_id_required(25, Customer).\\nCustomer = enabled_status,\\nAge = 25.\\n```\\n\\nThis query checks if a customer is at least 25 years old and has a valid ID. If both conditions are true, it returns `enabled_status` as the age verification status.\\n\\nSimilarly, you can use other queries to check different rules:\\n\\n```prolog\\n?- terms_and_conditions_agreed(Customer).\\nCustomer = enabled_status,\\nTermsAgreed = true.\\n```\\n\\nThis query checks if the customer has agreed to the terms and conditions. If both conditions are true, it returns `true` as the result.\\n\\nYou can also use this representation to verify compliance with certain rules:\\n\\n```prolog\\n?- service_usage_required(Customer).\\nCustomer = enabled_status,\\nTermsAgreed = true,\\nReadUnderstood = true.\\n```\\n\\nThis query checks if the customer has agreed to the terms and conditions, read the agreement, and is compliant with the laws. If all conditions are true, it returns `true` as the result.\\n\\nPlease note that these queries are just examples, and you can use other queries to verify compliance with different rules.\",\n",
       " 'Here is the Prolog representation of the rules:\\n\\n```prolog\\n% Rule 1\\nreport_to_compliance(TransactionAmount) :-\\n    TransactionAmount > 10000.\\n\\n% Rule 2\\nrefund_within_30_days(PurchaseDate, RequestDate) :-\\n    between(0, 30, AbsDiff),\\n    AbsDiff is (abs(Diff)),\\n    PurchaseDate < RequestDate,\\n    Diff > 0.\\n```\\n\\nIn the above Prolog rules:\\n\\n*   `report_to_compliance/1` checks if a transaction amount exceeds $10,000.\\n*   `refund_within_30_days/2` verifies that a refund request was made within 30 days of the original purchase date.\\n\\nThe use of the `between/3` and `abs/2` built-in predicates in Prolog simplifies the representation of the rules.',\n",
       " \"Here is a possible Prolog representation of the given rules:\\n\\n```prolog\\n% Define the rule for minimum credit score\\nminimum_credit_score_rule :-\\n    % Condition: The applicant's credit score must be 650 or above\\n    CreditScore >= 650.\\n\\n% Define the exception for this rule (none stated)\\nexception(minimum_credit_score_rule, none).\\n\\n% Define the purpose of this rule\\npurpose(minimum_credit_score_rule, ensure_qualified_individuals_can_apply_for_loans).\\n\\n% Define the rule for restriction on employee expense report approval\\nrestriction_on_employee_expense_report_approval :-\\n    % Condition: Employees cannot approve their own expense reports\\n    Employee is different_from(Applicant),\\n    Approval is not equal_to(ExpenseReport).\\n\\n% Define the exception for this rule (none stated)\\nexception(restriction_on_employee_expense_report_approval, none).\\n\\n% Define the purpose of this rule\\npurpose(restriction_on_employee_expense_report_approval, prevent_employees_from_benefiting_financially_by_approving_their_expenses).\\n```\\n\\nIn this Prolog representation:\\n\\n- We define rules using `rule_name:-` or `rule_name :- Condition`.\\n- Exceptions are defined using the `exception/3` predicate where `RuleName` is the rule name and `ConditionType` is the exception type (in this case, 'none').\\n- The purpose of a rule can be described by adding another clause to define the goal that the rule achieves.\",\n",
       " 'Here is the Prolog representation of the extracted explicit and implicit legal or business rules:\\n\\n```prolog\\n% Discount Approval Policy\\ndiscount_approved_by_manager :-\\n    discount > 20%,\\n    !.\\n\\n% Pricing and Discount Limits\\n% No specific limit mentioned in the text, implying potential implicit limits or restrictions.\\n% However, we can define a variable to represent an unknown limit:\\nlimit : integer.\\npricing_and_discount_limits :-\\n    \\\\+/limit ;  % If there\\'s no limit, it implies some other restriction\\n\\n% Approval Process\\napproval_involves_manager :-\\n    discount > 20%,\\n    !.\\n\\n% Managerial Discretion\\nmanagerial_discretion :-\\n    manager Approve(discount),\\n    !.\\n\\n% Manager Information (assuming a Manager class)\\nclass Manager.\\n    has_discretion :-\\n        approves(discount),\\n        !.\\n\\n% Example facts to demonstrate rule applicability:\\ndiscount(25). % 25% discount, which should require managerial approval\\nlimit(30).   % Potential limit of 30%\\nmanager(Approve).\\n```\\n\\nIn this Prolog representation:\\n\\n1. We define rules and conditions that correspond to the specified policies.\\n2. The `!` symbol indicates a \"cut\" clause, ensuring that only solutions satisfying both conditions are considered.\\n3. We use variables (e.g., `limit`) to represent unknowns or potential exceptions in the text.\\n4. The `class Manager` definition represents a class with the attribute `approves(discount)`, which can be used to determine if a manager has discretion over discounts above 20%.\\n5. Example facts demonstrate how these rules apply: `discount(25)` should require managerial approval, while `limit(30)` implies an implicit restriction.\\n\\nPlease note that Prolog is a declarative language, focusing on the meaning and relationships between data rather than the computation process itself. The representation here emphasizes the logical structure of the rules and conditions, assuming that the underlying logic for enforcement would be implemented elsewhere (e.g., in another module or using a different programming paradigm).',\n",
       " \"Here's the Prolog representation of the provided rules:\\n\\n```prolog\\n% Define predicates for data encryption and vendor vetting/approval rules\\ndataEncryptionRule :- \\n    % All customer data must be encrypted when stored or transmitted.\\n    !,\\n    true.\\n\\nvendorVettingAndApprovalRule :-\\n    % Vendors must be vetted and approved by the procurement team before any contracts are signed.\\n    % This rule only applies to vendors with whom a contract is being negotiated.\\n    contractNegotiation(Vendor), \\n    % The procurement team has final authority over vendor approval decisions.\\n    procurementTeamHasFinalAuthority, \\n    !,\\n    true.\\n\\ncontractNegotiation(Vendor).\\nvendorWithContract(Negotiator),\\nprocurementTeamHasFinalAuthority.\\n\\n% Define predicate for senior management authorization\\nseniorManagementAuthorization :-\\n    % No exceptions for emergency or urgent situations unless explicitly authorized by senior management.\\n    (emergencyOrUrgentSituation) ->\\n        seniorManagementAuthorized,\\n    true.\\n\\nemergencyOrUrgentSituation :- \\n    % This is a predefined situation, e.g., a severe weather event.\\n    \\\\+ is_severe_weather_event.\\n\\nseniorManagementAuthorized :-\\n    % Explicit authorization by senior management is required for exceptions to this rule.\\n    authorized_by_senior_management.\\n\\n% Define predicate for procurement team\\nprocurementTeam :-\\n    % The procurement team is responsible for vetting and approving vendors.\\n    true.\\n\\n% Define predicate for vendor approval decision\\nvendorApprovalDecision :-\\n    % Vendor approval decisions are made by the procurement team.\\n    procurementTeamDecision(decision).\\n\\nvendorApprovalDecision :-\\n    seniorManagementApproved(decision),\\n    approved_by_senior_management.\\n\\nseniorManagementApproved(decision) :- \\n    authorized_by_senior_management, \\n    decision.\\n\\napproved_by_senior_management :- \\n    is_severe_weather_event,\\n    authorized_by_senior_management.\\n```\\n\\nThis Prolog representation captures the rules and conditions as described in the problem statement. The predicates `dataEncryptionRule`, `vendorVettingAndApprovalRule`, `seniorManagementAuthorization`, and others represent the explicit rules, while the clauses of these predicates define their respective conditions.\\n\\nPlease note that this is a simplified representation and may not cover all possible scenarios or edge cases.\",\n",
       " 'Here\\'s a possible Prolog representation of the Inventory Check Procedure:\\n\\n```prolog\\n% Rule: Inventory checks must be conducted at the end of each month.\\ninventory_check_rule :-\\n    % Condition 1: Inventory checks must be conducted every 30 days (at the end of each month)\\n    condition_1.\\n    \\ncondition_1 :-\\n    monthly_interval(30).\\n    \\nmonthly_interval(0).  % Base case\\nmonthly_interval(X) :- \\n    X > 0, \\n    X1 is X - 1,\\n    monthly_interval(X1).\\n\\n% Condition 2: No exceptions specified\\nno_exceptions.\\n\\n% Variation due to business needs or circumstances (optional)\\nbusiness_needs_or_circumstances :-\\n    true.  % If you want to enforce some variation condition, add it here\\n\\n% Optional clause for tracking system (since there are no explicit mentions of an inventory management and tracking system in the text segment)\\nhas_inventory_management_and_tracking_system :-\\n    false.\\n```\\n\\nThis Prolog representation includes the following:\\n\\n1. `inventory_check_rule`: Defines the rule that says \"Inventory checks must be conducted at the end of each month.\"\\n2. `condition_1`: Specifies the first condition, which states that inventory checks must be conducted every 30 days (at the end of each month).\\n3. `monthly_interval/1`: A recursive predicate to represent the monthly interval.\\n4. `no_exceptions`: States that no exceptions are specified for this rule.\\n5. `business_needs_or_circumstances`: An optional clause to handle variations due to business needs or circumstances (although it\\'s not enforced in this representation).\\n6. `has_inventory_management_and_tracking_system`: Another optional clause, which is currently set to false since there are no explicit mentions of an inventory management and tracking system.\\n\\nTo enforce the rule when needed:\\n\\n```prolog\\ninventory_check :-\\n    inventory_check_rule,\\n    condition_1,\\n    business_needs_or_circumstances.\\n```\\n\\nYou can use this predicate as follows:\\n\\n```prolog\\n?- inventory_check.\\ntrue.\\n\\n?- business_needs_or_circumstances.\\nfalse.\\n\\n?- has_inventory_management_and_tracking_system.\\nfalse.\\n```']"
      ]
     },
     "execution_count": 16,
     "metadata": {},
     "output_type": "execute_result"
    }
   ],
   "execution_count": 16
  },
  {
   "metadata": {
    "ExecuteTime": {
     "end_time": "2024-11-19T21:38:56.613550Z",
     "start_time": "2024-11-19T21:38:56.608550Z"
    }
   },
   "cell_type": "code",
   "source": "final_prolog_output",
   "id": "24c76cea52528539",
   "outputs": [
    {
     "data": {
      "text/plain": [
       "\"Here is the Prolog representation of the rules for the company's financial management system:\\n\\n```prolog\\n% Rule: All transactions must be authorized by a manager before being recorded in the system.\\ntransaction_authorization_rule :-\\n    TransactionAmount > 0,\\n    ManagerApproved =/= no.\\n\\n% Define the exception for this rule (none stated)\\nexception(transaction_authorization_rule, none).\\n\\n% Define the purpose of this rule\\npurpose(transaction_authorization_rule, `companyFinancialRules`, `conformityCheckAndReportRules`).\\n```\\n\\nHere is a possible Prolog representation of the rules:\\n\\n```prolog\\n% Rule: All transactions must be above $10kveting approval.\\ntransaction_above_10k :-\\n    TransactionAmount > 10,\\n     true.\\n\\nvendor_vetting_approval :-\\n    % Only managers can approve_transactions :-\\n    ManagerApproved(is_manager,Manager approved only to have an ID before they are able to use the procurement process starts.\\n```\\n\\nHere is a possible Prolog representation of the following company policy rule:\\n\\n```prolog\\n% Rule: All transactions must be authorized by manager before being recorded in the system.\\n% This rule only is Authority.\\n\\n% Purpose: To ensure all transactions are compliant_withVendorRules :-\\n    % Only approved vendors can sign agreements, contractNegotiationWithFinalAuthorizationRule. By defining manager role authorization\\nseniorManagementAuthorization :-\\n    ManagerRole senior management roles,\\n    true.\\n\\n\\n\\n```\""
      ]
     },
     "execution_count": 17,
     "metadata": {},
     "output_type": "execute_result"
    }
   ],
   "execution_count": 17
  },
  {
   "metadata": {
    "ExecuteTime": {
     "end_time": "2024-11-19T19:26:09.301263Z",
     "start_time": "2024-11-19T19:26:09.290130Z"
    }
   },
   "cell_type": "code",
   "source": [
    "def convert_to_prolog(logical_rules):\n",
    "    prolog_rules = []\n",
    "\n",
    "    for rule in logical_rules:\n",
    "        # Convert logical rule to Prolog format\n",
    "        prompt = f\"Convert this rule to Prolog: {rule}\"\n",
    "        responseProlog = ollama.chat(\n",
    "            model=\"llama3.2\",\n",
    "            messages=[\n",
    "                {\n",
    "                    \"role\": \"user\",\n",
    "                    \"content\": prompt\n",
    "                },\n",
    "            ],\n",
    "        )\n",
    "        prolog_rules.append(responseProlog[\"message\"][\"content\"])\n",
    "\n",
    "    return prolog_rules"
   ],
   "id": "cee60a82d2edc613",
   "outputs": [],
   "execution_count": 4
  },
  {
   "metadata": {
    "ExecuteTime": {
     "end_time": "2024-12-08T16:35:05.002286Z",
     "start_time": "2024-12-08T16:34:53.873790Z"
    }
   },
   "cell_type": "code",
   "source": [
    "from LLM import LLM\n",
    "from BusinessRuleExtractor import BusinessRuleExtractor\n",
    "from PyPDF2 import PdfReader\n",
    "\n",
    "def read_pdf(file_path):\n",
    "    reader = PdfReader(file_path)\n",
    "    text = \"\"\n",
    "    for page in reader.pages:\n",
    "        text += page.extract_text() + \"\\n\"\n",
    "    return text\n",
    "\n",
    "# Example usage\n",
    "# Replace this with the path to your PDF document\n",
    "file_path = \"resources/business_rules_document.pdf\"\n",
    "\n",
    "# Read the content of the PDF document\n",
    "legal_text = read_pdf(file_path)\n",
    "\n",
    "# Create an instance of BusinessRuleExtractionLibrary\n",
    "ruleExtractor = BusinessRuleExtractor(LLM.OLLAMA)\n",
    "\n",
    "rules = ruleExtractor.extract_business_rules_from_document(legal_text)\n",
    "\n",
    "# Output the Prolog rules\n",
    "print(rules)\n"
   ],
   "id": "b59de4d9edb1f9f1",
   "outputs": [
    {
     "name": "stdout",
     "output_type": "stream",
     "text": [
      "[\"I don't see any text segment provided. Could you please paste the text segment you'd like me to extract the Prolog rules from? I'll be happy to help once I have it.\", 'Here are the rules in Prolog format:\\n\\n```prolog\\n% General Guidelines for Customer Interactions\\n\\n% Rule 1: Customers must provide valid identification before opening an account.\\nid_required_for_opening_account(true).\\n\\n% Rule 2: Customers must agree to the terms and conditions before using the service.\\nagreement_to_terms_and_conditions(true).\\n```\\n\\nNote that these rules assume a simple \"true\" or \"false\" representation of compliance. In Prolog, you might want to represent these as atoms (e.g., `id_required_for_opening_account` or `agreement_to_terms_and_conditions`) instead of predicates with arguments, depending on the context and requirements of your application.', \"Here are the extracted rules in Prolog format:\\n\\n```prolog\\n% Rule 3: All transactions above $10,000 must be reported to the compliance department.\\nreport_transaction(P) :-\\n    amount(P),\\n    above_10000(P).\\n\\nreport_transaction(P) :-\\n    !,\\n    write('Transaction requires reporting to compliance department.').\\n\\nabove_10000(Num) :-\\n    Num > 10000.\\n\\n% Rule 5: Refunds are only issued if the request is made within 30 days of the purchase date.\\nrefund_request(Request, Approved) :-\\n    request_date(Request),\\n    within_30_days(Request).\\n\\nrefund_request(_, _) :-\\n    !,\\n    write('Refund request not approved.').\\n\\nrequest_date(_).\\nwithin_30_days(Date) :-\\n    DaysSincePurchase >= 0,\\n    DaysSincePurchase < 30,\\n    DaysSincePurchase is /-Date.\\n\\n% Rule 6: A manager must approve any discount greater than 20%.\\nmanager_approval(Request, Approved) :-\\n    discount(Request),\\n    above_20(Request).\\n\\nmanager_approval(_, _) :-\\n    !,\\n    write('Manager approval not required for this request.').\\n\\nabove_20(Num) :-\\n    Num > 20.\\n```\\n\\nNote that I've used a simple Prolog representation of the rules using clauses and predicates. The actual implementation may vary depending on your specific requirements and the environment you're working in.\", 'Here are the extracted rules in Prolog format:\\n\\n```prolog\\n% Rule 7: All customer data must be encrypted when stored or transmitted.\\nencrypted_data_rule :-\\n    % no specific conditions, just a general rule\\n    true.\\n\\n% Rule 8: Employees are not allowed to approve their own expense reports.\\nemployee_approval_rule :-\\n    approved_by(E, _, E) :- employee approves ExpenseReport,\\n                          approved_by(_, expense_report, E).\\n```\\n\\nHowever, the above Prolog representation might be more accurate:\\n\\n```prolog\\nencrypted_data_rule :-\\n    % specific conditions can go here (e.g., when storing or transmitting)\\n    store(transmitted).\\n\\nemployee_approval_rule :-\\n    employee(A), approve_expense_report(E, approved_by(_, expense_report, A)).\\n```\\n\\nNote that these representations are very simplified and real-world Prolog programs would likely have more complex rules with many predicates and conditions.', \"Here are the rules in Prolog format:\\n\\n```prolog\\nvendedor_vetado(X) :- vetado(X).\\nvetado(X) :- approved(X).\\n\\napproved(X) :- procurement_team_approved(X).\\n\\nprocurement_team_approved(X) :- procured_by Procurement_Team, member(X, Procurement_Team).\\n```\\n\\nNote: In Prolog, predicates are defined using the `:-` symbol. The rules are written as a series of clauses that specify the conditions under which each predicate is true.\\n\\nHere's an explanation of each rule:\\n\\n1. `vendedor_vetado(X) :- vetado(X).`: This rule states that if X has been vetted, then it is considered a vetted vendor.\\n2. `vetado(X) :- approved(X).`: This rule states that if X is approved by the procurement team, then it is considered vetted.\\n3. `approved(X) :- procurement_team_approved(X).`: This rule states that if X is approved by the procurement team, then it is considered approved.\\n4. `procurement_team_approved(X) :- procured_by Procurement_Team, member(X, Procurement_Team).`: This rule states that if X has been procured by the procurement team and X is a member of the procurement team, then X is considered approved.\\n\\nNote: In this example, I assumed that there exists a predicate `procured_by` that represents the procurement team, and another predicate `member/2` that checks if an element belongs to a list.\", \"Here are the extracted rules in Prolog format:\\n\\n```prolog\\n% Rule 3: Credit score requirement for loan applications\\ncredit_score_required(LoadApplicant, Approved) :-\\n    credit_score(LoadApplicant), approved(LoadApplicant), 650 >= Score.\\ncredit_score(_).\\n\\napproved(_).\\n\\nScore.\\n\\n% Rule 4: Approval policy for employees\\nemployee_approver(Employee, Approved) :-\\n    Employee \\\\= Employee.\\n```\\n\\nNote that I've used a simple Prolog style to represent the rules. In this example:\\n\\n- `approved/1` represents the fact that an application is approved.\\n- `credit_score/1` and `Score/0` represent the credit score requirement.\\n- `employee_approver/2` represents the rule for employees not approving their own expense reports.\\n\\nPlease note that Prolog's syntax can be different from what you might expect in other programming languages.\"]\n"
     ]
    }
   ],
   "execution_count": 4
  },
  {
   "metadata": {
    "ExecuteTime": {
     "end_time": "2024-12-08T16:44:17.055116Z",
     "start_time": "2024-12-08T16:43:49.917775Z"
    }
   },
   "cell_type": "code",
   "source": [
    "from LLM import LLM\n",
    "from BusinessRuleExtractor import BusinessRuleExtractor\n",
    "from PyPDF2 import PdfReader\n",
    "\n",
    "def read_pdf(file_path):\n",
    "    reader = PdfReader(file_path)\n",
    "    text = \"\"\n",
    "    for page in reader.pages:\n",
    "        text += page.extract_text() + \"\\n\"\n",
    "    return text\n",
    "\n",
    "# Example usage\n",
    "# Replace this with the path to your PDF document\n",
    "file_path = \"resources/business_rules_document.pdf\"\n",
    "\n",
    "# Read the content of the PDF document\n",
    "legal_text = read_pdf(file_path)\n",
    "\n",
    "# Create an instance of BusinessRuleExtractionLibrary\n",
    "ruleExtractor = BusinessRuleExtractor(LLM.MISTRAL)\n",
    "\n",
    "rules = ruleExtractor.extract_business_rules_from_document(legal_text)\n",
    "\n",
    "# Output the Prolog rules\n",
    "print(rules)"
   ],
   "id": "ae7f5d27859fb733",
   "outputs": [
    {
     "name": "stdout",
     "output_type": "stream",
     "text": [
      "[\"1. Person(X) :- \\\\+Male(X), \\\\+Female(X). % Represents an unidentified gender or non-human entity\\n\\n2. Male(X) :- Parent(X, Y), Male(Y). % X is a male if he has at least one son (or another male child)\\n\\n3. Female(X) :- Parent(X, Y), Female(Y). % X is female if she has at least one daughter (or another female child)\\n\\n4. Parent(X, Y) :- Father(X, Y). % A shorthand for X being the father of Y\\n\\n5. Parent(X, Y) :- Mother(X, Y). % A shorthand for X being the mother of Y\\n\\n6. Father(X, Y) :- Man(X), FatherOf(X, Y). % X is a father if he's male and Y is one of his children\\n\\n7. Mother(X, Y) :- Woman(X), MotherOf(X, Y). % X is a mother if she's female and Y is one of her children\\n\\n8. FatherOf(man1, man2) :- \\\\+Parent(man2, _). % A shorthand rule that states man1 can be the father of man2 only if man2 does not have any parent (yet)\\n\\n9. MotherOf(woman1, woman2) :- \\\\+Parent(woman2, _). % A shorthand rule that states woman1 can be the mother of woman2 only if woman2 does not have any parent (yet)\", '1. customer_opening_account(Customer) :- provides_identification(Customer), validation(Identification).\\n\\n    2. provides_identification(Customer) :- true. % Assuming that any customer can provide identification\\n\\n    3. validation(Identification) :- valid_identification(Identification).\\n\\n    4. valid_identification(Identification) :- atom(Identification), not(invalid_identification(Identification)).\\n\\n    5. invalid_identification(_) :- false. % Assuming that no identification is invalid by default (you can add rules to make specific identifications invalid if necessary)', ' Here is the corresponding Prolog code for the given rule:\\n\\n```prolog\\ntransaction(Transaction) :- amount_of(Transaction), amount_of(Transaction) > 10000.\\nreport_to_compliance(transaction(Transaction)) :- transaction(Transaction).\\n```\\n\\nIn this code, `transaction/1` and `report_to_compliance/1` are predicates that represent the concepts of a transaction and reporting to the compliance department respectively. The first rule (`transaction/1`) defines what constitutes a transaction by using the auxiliary predicate `amount_of/1`. This hypothetical predicate should check the amount associated with a given transaction. The second rule (`report_to_compliance/1`) states that if there is a transaction, then it must be reported to the compliance department.', '1. eligible_for_loan(Applicant) :- credit_score(Applicant, Score), Score >= 650.\\n   (Here, the \\':-\\' symbol represents \"if\", the comma separates different facts for an argument, and the full stop signifies the end of a rule.)\\n\\n   Additionally, to account for potential new attributes like the applicant\\'s name or other relevant details:\\n\\n   2. credit_score(Name, Score) :- fact(Name, \\'Credit Score\\', Score).\\n   3. fact(Applicant, Attribute, Value) :- known(Applicant, Attribute, Value).\\n   (The last rule assumes that all relevant facts about an applicant are known.)', '1. no_self_approval(Employee):- Employee is Expense_Report_Owner.\\n\\n   In Prolog, a rule has the form \"Predicate :- Body\". The Predicate (here `no_self_approval/1`) is the name of the relation to be defined, and the Body (here `Employee is Expense_Report_Owner`) consists of atoms connected by logical operators. Here, the rule means that if an Employee is the Owner of an Expense Report, then no self-approval is allowed for that Employee.', '1. refund_policy(Request) :-\\n        date_difference(PurchaseDate, CurrentDate, Days) ,\\n        Days < 30 ,\\n        Request.made_within_30_days_of(PurchaseDate) ,\\n        issue_refund(Request).\\n\\n   In this Prolog format:\\n   - The predicate name is the same as the rule statement (e.g., refund_policy, issue_refund), and it takes one argument (the request).\\n   - Inside the brackets, each line represents a clause in Prolog format. For example, `date_difference(PurchaseDate, CurrentDate, Days)` represents a fact or a rule that calculates the difference between two dates.\\n   - The `->` symbol is used to represent an implication, so `Days < 30 -> ...` means \"if Days is less than 30, then...\".\\n   - The `.` symbol at the end of each clause signifies the end of a clause and the start of another one if there are multiple clauses in the rule.\\n   - To call a predicate (e.g., issue_refund), place it as the last clause in another predicate without any conditions, such as `issue_refund(Request)`.', '1. manager_approves(Discount) :- Discount > 20.\\n\\nThis rule states that if a discount is greater than 20%, then it needs to be approved by a manager in Prolog format.', '1. customer(X) :- agrees_to_terms_and_conditions(X).\\n\\n   2. agrees_to_terms_and_conditions(X) :- using_service(X).\\n\\n    These rules represent that a user (X) can only be considered a customer if they agree to the terms and conditions, and this agreement is implied if the user is already using the service.', \"1. encrypt_data(Data) :- % Encrypt data before storing or transmitting it\\n       encrypted_data(EncryptedData) ,\\n       same_data(Data, EncryptedData).\\n\\n   2. encrypted_data(Data) :- % Define what encrypted data looks like\\n       atom_list_concat(['Encrypted', Data]).\\n\\n   3. same_data(Data1, Data2) :- % Compare two pieces of data for equality\\n       length(Data1, Length),\\n       length(Data2, Length),\\n       maplist(same_char, Data1, Data2).\\n\\n   4. same_char(Char1, Char2) :- % Check if two characters are the same\\n       Char1 = Char2.\", '1. vet_vendor(Vendor) :- % Vendor has been vetted\\n       \\\\+ is_approved(Vendor).\\n\\n   2. approve_vendor(Vendor) :- % Vendor has been approved\\n       is_vetted(Vendor),\\n       \\\\+ is_approved(Vendor).\\n\\n   3. sign_contract(Contract, Vendor) :- % Contract can be signed with a vendor\\n       is_approved(Vendor).\\n\\n   4. is_vetted(Vendor) :- % Vendor has been vetted\\n       \\\\+is_unvetted(Vendor).\\n\\n   5. is_unvetted(Vendor) :- % Vendor has not been vetted\\n       \\\\+is_vetted(Vendor).\\n\\n   6. is_approved(_) :- % Every vendor starts as unapproved\\n       false.\\n\\n   7. is_unvetted(_) :- % Every vendor starts as unvetted\\n       true.', '1. end_of_month_check :-\\n        ! (current_day(31) ; current_month(_, 12), current_day(30)) ;\\n        current_month(_, 2), current_day(28) ; % for leap years\\n        current_month(_, _), last_day(CurrentMonth, CurrentYear),\\n        current_day(CurrentDay),\\n        CurrentDay =< CurrentLastDay,\\n        CurrentMonth is month(CurrentDay).\\n\\n  2. last_day(MonthNumber) :-\\n      MonthNumber > 7,\\n      ! (MonthNumber = 12 -> DayNumber = 31 ; DayNumber = 30), % for February\\n      MonthNumber < 8 -> DayNumber = 31 ; DayNumber = 30.\\n\\n  3. last_day(2) :- is_leap_year(Year), DayNumber = 29.\\n  4. last_day(_) :- \\\\+ is_leap_year(Year), DayNumber = 28.\\n\\n  5. is_leap_year(Year) :- Year mod 4 =:= 0, (Year mod 100 =\\\\= 0 ; Year mod 400 =:= 0).']\n"
     ]
    }
   ],
   "execution_count": 2
  },
  {
   "metadata": {},
   "cell_type": "code",
   "outputs": [],
   "execution_count": null,
   "source": "",
   "id": "cfb86ad7f6c4ebb0"
  }
 ],
 "metadata": {
  "kernelspec": {
   "display_name": "Python 3",
   "language": "python",
   "name": "python3"
  },
  "language_info": {
   "codemirror_mode": {
    "name": "ipython",
    "version": 2
   },
   "file_extension": ".py",
   "mimetype": "text/x-python",
   "name": "python",
   "nbconvert_exporter": "python",
   "pygments_lexer": "ipython2",
   "version": "2.7.6"
  }
 },
 "nbformat": 4,
 "nbformat_minor": 5
}
